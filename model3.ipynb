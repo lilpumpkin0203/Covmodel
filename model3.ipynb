{
 "cells": [
  {
   "cell_type": "code",
   "execution_count": 1,
   "metadata": {},
   "outputs": [],
   "source": [
    "import numpy as np\n",
    "import skimage as ski\n",
    "from skimage import io\n",
    "import matplotlib.pyplot as plt\n",
    "import matplotlib.image as mpltimg\n",
    "import os\n",
    "import cv2\n",
    "from PIL import Image\n",
    "import datetime"
   ]
  },
  {
   "cell_type": "code",
   "execution_count": 2,
   "metadata": {},
   "outputs": [],
   "source": [
    "import tensorflow as tf\n",
    "from tensorflow import keras\n",
    "from keras.models import Sequential\n",
    "from keras.preprocessing.image import ImageDataGenerator\n",
    "from keras.layers import Conv2D, MaxPooling2D, Activation, Flatten, BatchNormalization, Dropout, Dense\n",
    "from keras.utils import conv_utils "
   ]
  },
  {
   "cell_type": "code",
   "execution_count": 3,
   "metadata": {},
   "outputs": [],
   "source": [
    "dataset = []\n",
    "labels = []\n",
    "# importing the dataset first for train/test \n",
    "# labels are binary (1, 0)\n",
    "# 1 stands for infected\n",
    "# 0 stands for control"
   ]
  },
  {
   "cell_type": "code",
   "execution_count": 4,
   "metadata": {},
   "outputs": [],
   "source": [
    "inf_imgs=os.listdir ('C:\\\\Users\\\\MonPc\\\\Desktop\\\\version 2.0\\\\infected')\n",
    "for i, image_name in enumerate(inf_imgs):\n",
    "    img = cv2.imread('C:\\\\Users\\\\MonPc\\\\Desktop\\\\version 2.0\\\\infected\\\\' +  image_name)\n",
    "    img = Image.fromarray(img, mode='RGB')\n",
    "    img = img.resize((100, 100))\n",
    "    dataset.append(np.array(img))\n",
    "    labels.append(1)"
   ]
  },
  {
   "cell_type": "code",
   "execution_count": 5,
   "metadata": {},
   "outputs": [],
   "source": [
    "cntrl_imgs=os.listdir('C:\\\\Users\\\\MonPc\\\\Desktop\\\\version 2.0\\\\control')\n",
    "for i, image_name in enumerate(cntrl_imgs):\n",
    "    img = cv2.imread('C:\\\\Users\\\\MonPc\\\\Desktop\\\\version 2.0\\\\control\\\\' + image_name)\n",
    "    img = Image.fromarray(img, mode='RGB')\n",
    "    img = img.resize((100, 100))\n",
    "    dataset.append(np.array(img))\n",
    "    labels.append(0)"
   ]
  },
  {
   "cell_type": "code",
   "execution_count": 6,
   "metadata": {},
   "outputs": [],
   "source": [
    "# converting dataset and labels from lists to np.ndarray() for the upcoming work\n",
    "dataset = np.array(dataset)\n",
    "labels = np.array(labels)"
   ]
  },
  {
   "cell_type": "code",
   "execution_count": 7,
   "metadata": {},
   "outputs": [],
   "source": [
    "#splitting the dataset for the training\n",
    "from sklearn.model_selection import train_test_split\n",
    "x_train, x_test, y_train, y_test = train_test_split(dataset, labels, test_size = 0.20, random_state = 0)"
   ]
  },
  {
   "cell_type": "code",
   "execution_count": 8,
   "metadata": {},
   "outputs": [],
   "source": [
    "x_train = tf.keras.utils.normalize(x_train, axis=1)\n",
    "x_test = tf.keras.utils.normalize(x_test, axis=1)"
   ]
  },
  {
   "cell_type": "code",
   "execution_count": 9,
   "metadata": {},
   "outputs": [],
   "source": [
    "#creatin za model\n",
    "model = Sequential()\n",
    "\n",
    "model.add(Conv2D(32, (3, 3), input_shape=(100, 100, 3), activation='relu'))\n",
    "model.add(MaxPooling2D(pool_size=(2, 2)))\n",
    "\n",
    "model.add(Conv2D(64, (3, 3), kernel_initializer='he_uniform', activation='relu'))\n",
    "model.add(MaxPooling2D(pool_size=(2, 2)))\n",
    "\n",
    "model.add(Conv2D(128, (3, 3), kernel_initializer='he_uniform', activation='relu'))\n",
    "model.add(MaxPooling2D(pool_size=(2, 2)))\n",
    "# model.add(BatchNormalization())\n",
    "\n",
    "model.add(Flatten())\n",
    "model.add(Dense(64))\n",
    "model.add(Activation('relu'))\n",
    "\n",
    "model.add(Dense(1))\n",
    "\n",
    "model.add(Activation('sigmoid')) "
   ]
  },
  {
   "cell_type": "code",
   "execution_count": 10,
   "metadata": {},
   "outputs": [
    {
     "name": "stdout",
     "output_type": "stream",
     "text": [
      "Model: \"sequential\"\n",
      "_________________________________________________________________\n",
      "Layer (type)                 Output Shape              Param #   \n",
      "=================================================================\n",
      "conv2d (Conv2D)              (None, 98, 98, 32)        896       \n",
      "_________________________________________________________________\n",
      "max_pooling2d (MaxPooling2D) (None, 49, 49, 32)        0         \n",
      "_________________________________________________________________\n",
      "conv2d_1 (Conv2D)            (None, 47, 47, 64)        18496     \n",
      "_________________________________________________________________\n",
      "max_pooling2d_1 (MaxPooling2 (None, 23, 23, 64)        0         \n",
      "_________________________________________________________________\n",
      "conv2d_2 (Conv2D)            (None, 21, 21, 128)       73856     \n",
      "_________________________________________________________________\n",
      "max_pooling2d_2 (MaxPooling2 (None, 10, 10, 128)       0         \n",
      "_________________________________________________________________\n",
      "flatten (Flatten)            (None, 12800)             0         \n",
      "_________________________________________________________________\n",
      "dense (Dense)                (None, 64)                819264    \n",
      "_________________________________________________________________\n",
      "activation (Activation)      (None, 64)                0         \n",
      "_________________________________________________________________\n",
      "dense_1 (Dense)              (None, 1)                 65        \n",
      "_________________________________________________________________\n",
      "activation_1 (Activation)    (None, 1)                 0         \n",
      "=================================================================\n",
      "Total params: 912,577\n",
      "Trainable params: 912,577\n",
      "Non-trainable params: 0\n",
      "_________________________________________________________________\n",
      "None\n"
     ]
    }
   ],
   "source": [
    "#we are performing a binary classification\n",
    "model.compile(loss='binary_crossentropy', optimizer='adam', metrics=['accuracy'])\n",
    "print(model.summary())"
   ]
  },
  {
   "cell_type": "code",
   "execution_count": 11,
   "metadata": {},
   "outputs": [
    {
     "name": "stdout",
     "output_type": "stream",
     "text": [
      "Epoch 1/100\n",
      "4/4 [==============================] - 10s 1s/step - loss: 0.7213 - accuracy: 0.4643 - val_loss: 0.6874 - val_accuracy: 0.5517\n",
      "Epoch 2/100\n",
      "4/4 [==============================] - 4s 814ms/step - loss: 0.6939 - accuracy: 0.4821 - val_loss: 0.6885 - val_accuracy: 0.5517\n",
      "Epoch 3/100\n",
      "4/4 [==============================] - 3s 810ms/step - loss: 0.6920 - accuracy: 0.4821 - val_loss: 0.6876 - val_accuracy: 0.5517\n",
      "Epoch 4/100\n",
      "4/4 [==============================] - 2s 570ms/step - loss: 0.6897 - accuracy: 0.4821 - val_loss: 0.6836 - val_accuracy: 0.5517\n",
      "Epoch 5/100\n",
      "4/4 [==============================] - 3s 706ms/step - loss: 0.6854 - accuracy: 0.5357 - val_loss: 0.6767 - val_accuracy: 0.5862\n",
      "Epoch 6/100\n",
      "4/4 [==============================] - 3s 837ms/step - loss: 0.6765 - accuracy: 0.6161 - val_loss: 0.6592 - val_accuracy: 0.5862\n",
      "Epoch 7/100\n",
      "4/4 [==============================] - 3s 706ms/step - loss: 0.6658 - accuracy: 0.6964 - val_loss: 0.6409 - val_accuracy: 0.5862\n",
      "Epoch 8/100\n",
      "4/4 [==============================] - 2s 576ms/step - loss: 0.6408 - accuracy: 0.7232 - val_loss: 0.6137 - val_accuracy: 0.7241\n",
      "Epoch 9/100\n",
      "4/4 [==============================] - 3s 705ms/step - loss: 0.6122 - accuracy: 0.7054 - val_loss: 0.5798 - val_accuracy: 0.7241\n",
      "Epoch 10/100\n",
      "4/4 [==============================] - 3s 577ms/step - loss: 0.5865 - accuracy: 0.7232 - val_loss: 0.5749 - val_accuracy: 0.6897\n",
      "Epoch 11/100\n",
      "4/4 [==============================] - 2s 576ms/step - loss: 0.5418 - accuracy: 0.7411 - val_loss: 0.5081 - val_accuracy: 0.7931\n",
      "Epoch 12/100\n",
      "4/4 [==============================] - 3s 714ms/step - loss: 0.4534 - accuracy: 0.8036 - val_loss: 0.4679 - val_accuracy: 0.7931\n",
      "Epoch 13/100\n",
      "4/4 [==============================] - 3s 720ms/step - loss: 0.4349 - accuracy: 0.8214 - val_loss: 0.4544 - val_accuracy: 0.7931\n",
      "Epoch 14/100\n",
      "4/4 [==============================] - 2s 596ms/step - loss: 0.4456 - accuracy: 0.8304 - val_loss: 0.5618 - val_accuracy: 0.7586\n",
      "Epoch 15/100\n",
      "4/4 [==============================] - 2s 487ms/step - loss: 0.4875 - accuracy: 0.7679 - val_loss: 0.5471 - val_accuracy: 0.6552\n",
      "Epoch 16/100\n",
      "4/4 [==============================] - 2s 546ms/step - loss: 0.3542 - accuracy: 0.8571 - val_loss: 0.4755 - val_accuracy: 0.7586\n",
      "Epoch 17/100\n",
      "4/4 [==============================] - 2s 541ms/step - loss: 0.3428 - accuracy: 0.8482 - val_loss: 0.4573 - val_accuracy: 0.7586\n",
      "Epoch 18/100\n",
      "4/4 [==============================] - 2s 551ms/step - loss: 0.2819 - accuracy: 0.8839 - val_loss: 0.4856 - val_accuracy: 0.7586\n",
      "Epoch 19/100\n",
      "4/4 [==============================] - 2s 517ms/step - loss: 0.2526 - accuracy: 0.9196 - val_loss: 0.4661 - val_accuracy: 0.7241\n",
      "Epoch 20/100\n",
      "4/4 [==============================] - 2s 529ms/step - loss: 0.2540 - accuracy: 0.8839 - val_loss: 0.4603 - val_accuracy: 0.7241\n",
      "Epoch 21/100\n",
      "4/4 [==============================] - 2s 524ms/step - loss: 0.1904 - accuracy: 0.9375 - val_loss: 0.4593 - val_accuracy: 0.7241\n",
      "Epoch 22/100\n",
      "4/4 [==============================] - 2s 510ms/step - loss: 0.1670 - accuracy: 0.9554 - val_loss: 0.4578 - val_accuracy: 0.7931\n",
      "Epoch 23/100\n",
      "4/4 [==============================] - 2s 518ms/step - loss: 0.1614 - accuracy: 0.9196 - val_loss: 0.4990 - val_accuracy: 0.8276\n",
      "Epoch 24/100\n",
      "4/4 [==============================] - 2s 514ms/step - loss: 0.1255 - accuracy: 0.9554 - val_loss: 0.5634 - val_accuracy: 0.7241\n",
      "Epoch 25/100\n",
      "4/4 [==============================] - 2s 580ms/step - loss: 0.0992 - accuracy: 0.9821 - val_loss: 0.7262 - val_accuracy: 0.7586\n",
      "Epoch 26/100\n",
      "4/4 [==============================] - 3s 918ms/step - loss: 0.1197 - accuracy: 0.9554 - val_loss: 0.7478 - val_accuracy: 0.7241\n",
      "Epoch 27/100\n",
      "4/4 [==============================] - 3s 619ms/step - loss: 0.1080 - accuracy: 0.9554 - val_loss: 0.6517 - val_accuracy: 0.8276\n",
      "Epoch 28/100\n",
      "4/4 [==============================] - 2s 565ms/step - loss: 0.1467 - accuracy: 0.9286 - val_loss: 0.6837 - val_accuracy: 0.7241\n",
      "Epoch 29/100\n",
      "4/4 [==============================] - 108s 36s/step - loss: 0.0586 - accuracy: 0.9911 - val_loss: 0.7849 - val_accuracy: 0.7241\n",
      "Epoch 30/100\n",
      "4/4 [==============================] - 3s 830ms/step - loss: 0.0455 - accuracy: 1.0000 - val_loss: 0.7778 - val_accuracy: 0.7241\n",
      "Epoch 31/100\n",
      "4/4 [==============================] - 2s 516ms/step - loss: 0.0401 - accuracy: 1.0000 - val_loss: 0.8648 - val_accuracy: 0.7586\n",
      "Epoch 32/100\n",
      "4/4 [==============================] - 3s 617ms/step - loss: 0.0327 - accuracy: 1.0000 - val_loss: 0.8089 - val_accuracy: 0.7931\n",
      "Epoch 33/100\n",
      "4/4 [==============================] - 3s 568ms/step - loss: 0.0344 - accuracy: 1.0000 - val_loss: 0.9981 - val_accuracy: 0.6897\n",
      "Epoch 34/100\n",
      "4/4 [==============================] - 2s 498ms/step - loss: 0.0341 - accuracy: 1.0000 - val_loss: 0.9785 - val_accuracy: 0.7931\n",
      "Epoch 35/100\n",
      "4/4 [==============================] - 2s 447ms/step - loss: 0.0427 - accuracy: 0.9911 - val_loss: 1.3026 - val_accuracy: 0.7241\n",
      "Epoch 36/100\n",
      "4/4 [==============================] - 2s 402ms/step - loss: 0.0460 - accuracy: 1.0000 - val_loss: 1.2220 - val_accuracy: 0.7931\n",
      "Epoch 37/100\n",
      "4/4 [==============================] - 2s 403ms/step - loss: 0.0714 - accuracy: 0.9821 - val_loss: 1.6668 - val_accuracy: 0.6207\n",
      "Epoch 38/100\n",
      "4/4 [==============================] - 2s 421ms/step - loss: 0.0673 - accuracy: 0.9732 - val_loss: 1.4315 - val_accuracy: 0.7586\n",
      "Epoch 39/100\n",
      "4/4 [==============================] - 2s 419ms/step - loss: 0.1047 - accuracy: 0.9643 - val_loss: 2.1095 - val_accuracy: 0.5862\n",
      "Epoch 40/100\n",
      "4/4 [==============================] - 2s 424ms/step - loss: 0.2006 - accuracy: 0.9196 - val_loss: 1.8847 - val_accuracy: 0.6897\n",
      "Epoch 41/100\n",
      "4/4 [==============================] - 2s 405ms/step - loss: 0.2084 - accuracy: 0.8929 - val_loss: 1.8091 - val_accuracy: 0.6552\n",
      "Epoch 42/100\n",
      "4/4 [==============================] - 2s 406ms/step - loss: 0.3395 - accuracy: 0.8571 - val_loss: 1.3597 - val_accuracy: 0.6552\n",
      "Epoch 43/100\n",
      "4/4 [==============================] - 2s 399ms/step - loss: 0.0955 - accuracy: 0.9554 - val_loss: 1.3804 - val_accuracy: 0.6897\n",
      "Epoch 44/100\n",
      "4/4 [==============================] - 2s 431ms/step - loss: 0.1592 - accuracy: 0.9107 - val_loss: 1.3094 - val_accuracy: 0.6207\n",
      "Epoch 45/100\n",
      "4/4 [==============================] - 2s 412ms/step - loss: 0.0538 - accuracy: 0.9821 - val_loss: 1.4782 - val_accuracy: 0.6552\n",
      "Epoch 46/100\n",
      "4/4 [==============================] - 2s 431ms/step - loss: 0.0518 - accuracy: 0.9821 - val_loss: 1.6763 - val_accuracy: 0.6552\n",
      "Epoch 47/100\n",
      "4/4 [==============================] - 2s 458ms/step - loss: 0.0233 - accuracy: 1.0000 - val_loss: 1.6648 - val_accuracy: 0.6552\n",
      "Epoch 48/100\n",
      "4/4 [==============================] - 2s 439ms/step - loss: 0.0269 - accuracy: 1.0000 - val_loss: 1.5513 - val_accuracy: 0.6897\n",
      "Epoch 49/100\n",
      "4/4 [==============================] - 2s 441ms/step - loss: 0.0135 - accuracy: 1.0000 - val_loss: 1.5318 - val_accuracy: 0.6552\n",
      "Epoch 50/100\n",
      "4/4 [==============================] - 2s 436ms/step - loss: 0.0099 - accuracy: 1.0000 - val_loss: 1.5888 - val_accuracy: 0.6552\n",
      "Epoch 51/100\n",
      "4/4 [==============================] - 2s 454ms/step - loss: 0.0080 - accuracy: 1.0000 - val_loss: 1.5850 - val_accuracy: 0.6552\n",
      "Epoch 52/100\n",
      "4/4 [==============================] - ETA: 0s - loss: 0.0044 - accuracy: 1.00 - 2s 436ms/step - loss: 0.0044 - accuracy: 1.0000 - val_loss: 1.5817 - val_accuracy: 0.7241\n",
      "Epoch 53/100\n",
      "4/4 [==============================] - 2s 424ms/step - loss: 0.0042 - accuracy: 1.0000 - val_loss: 1.6216 - val_accuracy: 0.7241\n",
      "Epoch 54/100\n",
      "4/4 [==============================] - 2s 431ms/step - loss: 0.0035 - accuracy: 1.0000 - val_loss: 1.6926 - val_accuracy: 0.6897\n",
      "Epoch 55/100\n",
      "4/4 [==============================] - 2s 424ms/step - loss: 0.0026 - accuracy: 1.0000 - val_loss: 1.7729 - val_accuracy: 0.6897\n",
      "Epoch 56/100\n",
      "4/4 [==============================] - 2s 462ms/step - loss: 0.0023 - accuracy: 1.0000 - val_loss: 1.8070 - val_accuracy: 0.6897\n",
      "Epoch 57/100\n",
      "4/4 [==============================] - 2s 423ms/step - loss: 0.0021 - accuracy: 1.0000 - val_loss: 1.7926 - val_accuracy: 0.6897\n",
      "Epoch 58/100\n",
      "4/4 [==============================] - 2s 442ms/step - loss: 0.0018 - accuracy: 1.0000 - val_loss: 1.7692 - val_accuracy: 0.6897\n",
      "Epoch 59/100\n",
      "4/4 [==============================] - 2s 442ms/step - loss: 0.0016 - accuracy: 1.0000 - val_loss: 1.7565 - val_accuracy: 0.6897\n",
      "Epoch 60/100\n",
      "4/4 [==============================] - 2s 481ms/step - loss: 0.0015 - accuracy: 1.0000 - val_loss: 1.7597 - val_accuracy: 0.6897\n",
      "Epoch 61/100\n",
      "4/4 [==============================] - 2s 478ms/step - loss: 0.0014 - accuracy: 1.0000 - val_loss: 1.7747 - val_accuracy: 0.6897\n",
      "Epoch 62/100\n",
      "4/4 [==============================] - 2s 405ms/step - loss: 0.0013 - accuracy: 1.0000 - val_loss: 1.7914 - val_accuracy: 0.6897\n",
      "Epoch 63/100\n",
      "4/4 [==============================] - 2s 412ms/step - loss: 0.0012 - accuracy: 1.0000 - val_loss: 1.8008 - val_accuracy: 0.6897\n",
      "Epoch 64/100\n",
      "4/4 [==============================] - 2s 460ms/step - loss: 0.0011 - accuracy: 1.0000 - val_loss: 1.8009 - val_accuracy: 0.6897\n",
      "Epoch 65/100\n",
      "4/4 [==============================] - 2s 387ms/step - loss: 0.0011 - accuracy: 1.0000 - val_loss: 1.7968 - val_accuracy: 0.6897\n",
      "Epoch 66/100\n",
      "4/4 [==============================] - 2s 418ms/step - loss: 9.9892e-04 - accuracy: 1.0000 - val_loss: 1.7966 - val_accuracy: 0.6897\n",
      "Epoch 67/100\n",
      "4/4 [==============================] - 2s 424ms/step - loss: 9.4047e-04 - accuracy: 1.0000 - val_loss: 1.8034 - val_accuracy: 0.6897\n",
      "Epoch 68/100\n",
      "4/4 [==============================] - 2s 404ms/step - loss: 8.8172e-04 - accuracy: 1.0000 - val_loss: 1.8121 - val_accuracy: 0.6897\n",
      "Epoch 69/100\n",
      "4/4 [==============================] - 2s 518ms/step - loss: 8.2799e-04 - accuracy: 1.0000 - val_loss: 1.8138 - val_accuracy: 0.6897\n",
      "Epoch 70/100\n",
      "4/4 [==============================] - 2s 380ms/step - loss: 7.7858e-04 - accuracy: 1.0000 - val_loss: 1.8062 - val_accuracy: 0.6897\n",
      "Epoch 71/100\n",
      "4/4 [==============================] - 2s 399ms/step - loss: 7.3345e-04 - accuracy: 1.0000 - val_loss: 1.7961 - val_accuracy: 0.6897\n",
      "Epoch 72/100\n",
      "4/4 [==============================] - 2s 408ms/step - loss: 6.9248e-04 - accuracy: 1.0000 - val_loss: 1.7908 - val_accuracy: 0.6897\n",
      "Epoch 73/100\n",
      "4/4 [==============================] - 2s 392ms/step - loss: 6.5273e-04 - accuracy: 1.0000 - val_loss: 1.7892 - val_accuracy: 0.6897\n",
      "Epoch 74/100\n",
      "4/4 [==============================] - 2s 394ms/step - loss: 6.1510e-04 - accuracy: 1.0000 - val_loss: 1.7845 - val_accuracy: 0.6897\n",
      "Epoch 75/100\n",
      "4/4 [==============================] - 2s 382ms/step - loss: 5.8045e-04 - accuracy: 1.0000 - val_loss: 1.7747 - val_accuracy: 0.6897\n",
      "Epoch 76/100\n",
      "4/4 [==============================] - 2s 430ms/step - loss: 5.4868e-04 - accuracy: 1.0000 - val_loss: 1.7655 - val_accuracy: 0.6897\n",
      "Epoch 77/100\n",
      "4/4 [==============================] - 2s 395ms/step - loss: 5.1913e-04 - accuracy: 1.0000 - val_loss: 1.7604 - val_accuracy: 0.6897\n",
      "Epoch 78/100\n",
      "4/4 [==============================] - 2s 404ms/step - loss: 4.9107e-04 - accuracy: 1.0000 - val_loss: 1.7565 - val_accuracy: 0.6897\n",
      "Epoch 79/100\n",
      "4/4 [==============================] - 2s 384ms/step - loss: 4.6488e-04 - accuracy: 1.0000 - val_loss: 1.7504 - val_accuracy: 0.6897\n",
      "Epoch 80/100\n",
      "4/4 [==============================] - 2s 388ms/step - loss: 4.4076e-04 - accuracy: 1.0000 - val_loss: 1.7433 - val_accuracy: 0.6897\n",
      "Epoch 81/100\n",
      "4/4 [==============================] - 2s 390ms/step - loss: 4.1841e-04 - accuracy: 1.0000 - val_loss: 1.7383 - val_accuracy: 0.6897\n",
      "Epoch 82/100\n",
      "4/4 [==============================] - 2s 385ms/step - loss: 3.9730e-04 - accuracy: 1.0000 - val_loss: 1.7358 - val_accuracy: 0.6897\n",
      "Epoch 83/100\n",
      "4/4 [==============================] - 2s 380ms/step - loss: 3.7746e-04 - accuracy: 1.0000 - val_loss: 1.7331 - val_accuracy: 0.6897\n",
      "Epoch 84/100\n",
      "4/4 [==============================] - 2s 384ms/step - loss: 3.5925e-04 - accuracy: 1.0000 - val_loss: 1.7293 - val_accuracy: 0.7241\n",
      "Epoch 85/100\n",
      "4/4 [==============================] - 2s 384ms/step - loss: 3.4240e-04 - accuracy: 1.0000 - val_loss: 1.7268 - val_accuracy: 0.7241\n",
      "Epoch 86/100\n",
      "4/4 [==============================] - 1s 375ms/step - loss: 3.2667e-04 - accuracy: 1.0000 - val_loss: 1.7264 - val_accuracy: 0.7241\n",
      "Epoch 87/100\n",
      "4/4 [==============================] - 2s 388ms/step - loss: 3.1188e-04 - accuracy: 1.0000 - val_loss: 1.7255 - val_accuracy: 0.7241\n",
      "Epoch 88/100\n",
      "4/4 [==============================] - 2s 386ms/step - loss: 2.9810e-04 - accuracy: 1.0000 - val_loss: 1.7250 - val_accuracy: 0.7241\n",
      "Epoch 89/100\n",
      "4/4 [==============================] - 2s 381ms/step - loss: 2.8521e-04 - accuracy: 1.0000 - val_loss: 1.7250 - val_accuracy: 0.7241\n",
      "Epoch 90/100\n",
      "4/4 [==============================] - 2s 382ms/step - loss: 2.7318e-04 - accuracy: 1.0000 - val_loss: 1.7254 - val_accuracy: 0.7241\n",
      "Epoch 91/100\n",
      "4/4 [==============================] - 2s 394ms/step - loss: 2.6189e-04 - accuracy: 1.0000 - val_loss: 1.7260 - val_accuracy: 0.7241\n",
      "Epoch 92/100\n",
      "4/4 [==============================] - 2s 404ms/step - loss: 2.5139e-04 - accuracy: 1.0000 - val_loss: 1.7263 - val_accuracy: 0.7241\n",
      "Epoch 93/100\n",
      "4/4 [==============================] - 2s 379ms/step - loss: 2.4152e-04 - accuracy: 1.0000 - val_loss: 1.7271 - val_accuracy: 0.7241\n",
      "Epoch 94/100\n",
      "4/4 [==============================] - 2s 471ms/step - loss: 2.3223e-04 - accuracy: 1.0000 - val_loss: 1.7283 - val_accuracy: 0.7241\n",
      "Epoch 95/100\n",
      "4/4 [==============================] - 2s 429ms/step - loss: 2.2348e-04 - accuracy: 1.0000 - val_loss: 1.7295 - val_accuracy: 0.7241\n",
      "Epoch 96/100\n",
      "4/4 [==============================] - 2s 535ms/step - loss: 2.1530e-04 - accuracy: 1.0000 - val_loss: 1.7305 - val_accuracy: 0.7241\n",
      "Epoch 97/100\n",
      "4/4 [==============================] - 1s 364ms/step - loss: 2.0760e-04 - accuracy: 1.0000 - val_loss: 1.7315 - val_accuracy: 0.7241\n",
      "Epoch 98/100\n",
      "4/4 [==============================] - 1s 369ms/step - loss: 2.0034e-04 - accuracy: 1.0000 - val_loss: 1.7332 - val_accuracy: 0.7241\n",
      "Epoch 99/100\n",
      "4/4 [==============================] - 2s 405ms/step - loss: 1.9347e-04 - accuracy: 1.0000 - val_loss: 1.7348 - val_accuracy: 0.7241\n",
      "Epoch 100/100\n",
      "4/4 [==============================] - 4s 770ms/step - loss: 1.8698e-04 - accuracy: 1.0000 - val_loss: 1.7365 - val_accuracy: 0.7241\n"
     ]
    }
   ],
   "source": [
    "log_dir = \"logs/fit/\" + datetime.datetime.now().strftime(\"%Y%m%d-%H%M%S\")\n",
    "tensorboard_callback = tf.keras.callbacks.TensorBoard(log_dir=log_dir, histogram_freq=1)\n",
    "history = model.fit(x_train, y_train, batch_size= 32, verbose = 'auto', epochs = 100, validation_data = (x_test, y_test), shuffle = False, callbacks=[tensorboard_callback])\n"
   ]
  },
  {
   "cell_type": "code",
   "execution_count": 12,
   "metadata": {},
   "outputs": [],
   "source": [
    "model.save('trialmodel3_100epochs.h5')"
   ]
  },
  {
   "cell_type": "code",
   "execution_count": 13,
   "metadata": {},
   "outputs": [
    {
     "data": {
      "image/png": "[encoded data removed]",
      "text/plain": [
       "<Figure size 432x288 with 1 Axes>"
      ]
     },
     "metadata": {
      "needs_background": "light"
     },
     "output_type": "display_data"
    }
   ],
   "source": [
    "#plot the training and validation accuracy and loss at each epoch\n",
    "loss = history.history['loss']\n",
    "val_loss = history.history['val_loss']\n",
    "epochs = range(1, len(loss) + 1)\n",
    "plt.plot(epochs, loss, 'y', label='Training loss')\n",
    "plt.plot(epochs, val_loss, 'r', label='Validation loss')\n",
    "plt.title('Training and validation loss')\n",
    "plt.xlabel('Epochs')\n",
    "plt.ylabel('Loss')\n",
    "plt.legend()\n",
    "plt.show()"
   ]
  },
  {
   "cell_type": "code",
   "execution_count": 14,
   "metadata": {},
   "outputs": [
    {
     "data": {
      "image/png": "[encoded data removed]",
      "text/plain": [
       "<Figure size 432x288 with 1 Axes>"
      ]
     },
     "metadata": {
      "needs_background": "light"
     },
     "output_type": "display_data"
    }
   ],
   "source": [
    "acc = history.history['accuracy']\n",
    "val_acc = history.history['val_accuracy']\n",
    "plt.plot(epochs, acc, 'y', label='Training acc')\n",
    "plt.plot(epochs, val_acc, 'r', label='Validation acc')\n",
    "plt.title('Training and validation accuracy')\n",
    "plt.xlabel('Epochs')\n",
    "plt.ylabel('Accuracy')\n",
    "plt.legend()\n",
    "plt.show()"
   ]
  },
  {
   "cell_type": "code",
   "execution_count": 15,
   "metadata": {},
   "outputs": [
    {
     "name": "stdout",
     "output_type": "stream",
     "text": [
      "1/1 [==============================] - 0s 362ms/step - loss: 1.7365 - accuracy: 0.7241\n",
      "Accuracy =  72.41379022598267 %\n"
     ]
    }
   ],
   "source": [
    "from keras.models import load_model\n",
    "model1 = load_model('trialmodel1_100epochs.h5')\n",
    "#For 300 epochs\n",
    "_, acc = model.evaluate(x_test, y_test)\n",
    "print(\"Accuracy = \", (acc * 100.0), \"%\")"
   ]
  },
  {
   "cell_type": "code",
   "execution_count": 16,
   "metadata": {},
   "outputs": [
    {
     "name": "stdout",
     "output_type": "stream",
     "text": [
      "[[10  3]\n",
      " [ 6 10]]\n"
     ]
    }
   ],
   "source": [
    "from sklearn.metrics import confusion_matrix\n",
    "mythreshold=0.908\n",
    "y_pred = (model.predict(x_test)>= mythreshold).astype(int)\n",
    "cm=confusion_matrix(y_test, y_pred)  \n",
    "print(cm)"
   ]
  }
 ],
 "metadata": {
  "interpreter": {
   "hash": "2ef69e4644868e93b20bcd6ae5ca96fa548c1e71c8a97ef520e03cfc9b9d3a7c"
  },
  "kernelspec": {
   "display_name": "Python 3.7.4 ('base')",
   "language": "python",
   "name": "python3"
  },
  "language_info": {
   "codemirror_mode": {
    "name": "ipython",
    "version": 3
   },
   "file_extension": ".py",
   "mimetype": "text/x-python",
   "name": "python",
   "nbconvert_exporter": "python",
   "pygments_lexer": "ipython3",
   "version": "3.7.4"
  },
  "orig_nbformat": 4
 },
 "nbformat": 4,
 "nbformat_minor": 2
}
