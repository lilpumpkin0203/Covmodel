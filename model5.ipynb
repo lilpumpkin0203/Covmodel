{
 "cells": [
  {
   "cell_type": "code",
   "execution_count": 1,
   "metadata": {},
   "outputs": [],
   "source": [
    "import numpy as np\n",
    "import skimage as ski\n",
    "from skimage import io\n",
    "import matplotlib.pyplot as plt\n",
    "import matplotlib.image as mpltimg\n",
    "import os\n",
    "import cv2\n",
    "from PIL import Image\n",
    "import datetime"
   ]
  },
  {
   "cell_type": "code",
   "execution_count": 2,
   "metadata": {},
   "outputs": [],
   "source": [
    "import tensorflow as tf\n",
    "from tensorflow import keras\n",
    "from keras.models import Sequential\n",
    "from keras.preprocessing.image import ImageDataGenerator\n",
    "from keras.layers import Conv2D, MaxPooling2D, Activation, Flatten, BatchNormalization, Dropout, Dense\n",
    "from keras.utils import conv_utils "
   ]
  },
  {
   "cell_type": "code",
   "execution_count": 3,
   "metadata": {},
   "outputs": [],
   "source": [
    "dataset = []\n",
    "labels = []\n",
    "# importing the dataset first for train/test \n",
    "# labels are binary (1, 0)\n",
    "# 1 stands for infected\n",
    "# 0 stands for control"
   ]
  },
  {
   "cell_type": "code",
   "execution_count": 4,
   "metadata": {},
   "outputs": [],
   "source": [
    "inf_imgs=os.listdir ('C:\\\\Users\\\\MonPc\\\\Desktop\\\\version 2.0\\\\infected')\n",
    "for i, image_name in enumerate(inf_imgs):\n",
    "    img = cv2.imread('C:\\\\Users\\\\MonPc\\\\Desktop\\\\version 2.0\\\\infected\\\\' +  image_name)\n",
    "    img = Image.fromarray(img, mode='RGB')\n",
    "    img = img.resize((256, 256))\n",
    "    dataset.append(np.array(img))\n",
    "    labels.append(1)"
   ]
  },
  {
   "cell_type": "code",
   "execution_count": 5,
   "metadata": {},
   "outputs": [],
   "source": [
    "cntrl_imgs=os.listdir('C:\\\\Users\\\\MonPc\\\\Desktop\\\\version 2.0\\\\control')\n",
    "for i, image_name in enumerate(cntrl_imgs):\n",
    "    img = cv2.imread('C:\\\\Users\\\\MonPc\\\\Desktop\\\\version 2.0\\\\control\\\\' + image_name)\n",
    "    img = Image.fromarray(img, mode='RGB')\n",
    "    img = img.resize((256, 256))\n",
    "    dataset.append(np.array(img))\n",
    "    labels.append(0)"
   ]
  },
  {
   "cell_type": "code",
   "execution_count": 6,
   "metadata": {},
   "outputs": [],
   "source": [
    "# converting dataset and labels from lists to np.ndarray() for the upcoming work\n",
    "dataset = np.array(dataset)\n",
    "labels = np.array(labels)"
   ]
  },
  {
   "cell_type": "code",
   "execution_count": 7,
   "metadata": {},
   "outputs": [],
   "source": [
    "#splitting the dataset for the training\n",
    "from sklearn.model_selection import train_test_split\n",
    "x_train, x_test, y_train, y_test = train_test_split(dataset, labels, test_size = 0.20, random_state = 0)"
   ]
  },
  {
   "cell_type": "code",
   "execution_count": 8,
   "metadata": {},
   "outputs": [],
   "source": [
    "x_train = tf.keras.utils.normalize(x_train, axis=1)\n",
    "x_test = tf.keras.utils.normalize(x_test, axis=1)"
   ]
  },
  {
   "cell_type": "code",
   "execution_count": 9,
   "metadata": {},
   "outputs": [],
   "source": [
    "#creatin za model\n",
    "model = Sequential()\n",
    "\n",
    "model.add(Conv2D(32, (3, 3), input_shape=(256, 256, 3), activation='relu'))\n",
    "model.add(MaxPooling2D(pool_size=(2, 2)))\n",
    "\n",
    "model.add(Conv2D(32, (5, 5), kernel_initializer='he_uniform', activation='relu'))\n",
    "model.add(MaxPooling2D(pool_size=(2, 2)))\n",
    "\n",
    "model.add(Conv2D(64, (3, 3), kernel_initializer='he_uniform', activation='relu'))\n",
    "model.add(MaxPooling2D(pool_size=(2, 2)))\n",
    "\n",
    "model.add(Conv2D(64, (5, 5), kernel_initializer='he_uniform', activation='relu'))\n",
    "model.add(MaxPooling2D(pool_size=(2, 2)))\n",
    "\n",
    "model.add(Conv2D(128, (3, 3), kernel_initializer='he_uniform', activation='relu'))\n",
    "model.add(MaxPooling2D(pool_size=(2, 2)))\n",
    "\n",
    "model.add(Flatten())\n",
    "model.add(Dense(128))\n",
    "model.add(Activation('relu'))\n",
    "model.add(Dropout(0.2))\n",
    "\n",
    "model.add(Dense(1))\n",
    "\n",
    "model.add(Activation('sigmoid'))"
   ]
  },
  {
   "cell_type": "code",
   "execution_count": 10,
   "metadata": {},
   "outputs": [
    {
     "name": "stdout",
     "output_type": "stream",
     "text": [
      "Model: \"sequential\"\n",
      "_________________________________________________________________\n",
      "Layer (type)                 Output Shape              Param #   \n",
      "=================================================================\n",
      "conv2d (Conv2D)              (None, 254, 254, 32)      896       \n",
      "_________________________________________________________________\n",
      "max_pooling2d (MaxPooling2D) (None, 127, 127, 32)      0         \n",
      "_________________________________________________________________\n",
      "conv2d_1 (Conv2D)            (None, 123, 123, 32)      25632     \n",
      "_________________________________________________________________\n",
      "max_pooling2d_1 (MaxPooling2 (None, 61, 61, 32)        0         \n",
      "_________________________________________________________________\n",
      "conv2d_2 (Conv2D)            (None, 59, 59, 64)        18496     \n",
      "_________________________________________________________________\n",
      "max_pooling2d_2 (MaxPooling2 (None, 29, 29, 64)        0         \n",
      "_________________________________________________________________\n",
      "conv2d_3 (Conv2D)            (None, 25, 25, 64)        102464    \n",
      "_________________________________________________________________\n",
      "max_pooling2d_3 (MaxPooling2 (None, 12, 12, 64)        0         \n",
      "_________________________________________________________________\n",
      "conv2d_4 (Conv2D)            (None, 10, 10, 128)       73856     \n",
      "_________________________________________________________________\n",
      "max_pooling2d_4 (MaxPooling2 (None, 5, 5, 128)         0         \n",
      "_________________________________________________________________\n",
      "flatten (Flatten)            (None, 3200)              0         \n",
      "_________________________________________________________________\n",
      "dense (Dense)                (None, 128)               409728    \n",
      "_________________________________________________________________\n",
      "activation (Activation)      (None, 128)               0         \n",
      "_________________________________________________________________\n",
      "dropout (Dropout)            (None, 128)               0         \n",
      "_________________________________________________________________\n",
      "dense_1 (Dense)              (None, 1)                 129       \n",
      "_________________________________________________________________\n",
      "activation_1 (Activation)    (None, 1)                 0         \n",
      "=================================================================\n",
      "Total params: 631,201\n",
      "Trainable params: 631,201\n",
      "Non-trainable params: 0\n",
      "_________________________________________________________________\n",
      "None\n"
     ]
    }
   ],
   "source": [
    "#we are performing a binary classification\n",
    "model.compile(loss='binary_crossentropy', optimizer='adam', metrics=['accuracy'])\n",
    "print(model.summary())"
   ]
  },
  {
   "cell_type": "code",
   "execution_count": 11,
   "metadata": {},
   "outputs": [
    {
     "name": "stdout",
     "output_type": "stream",
     "text": [
      "Epoch 1/100\n",
      "2/2 [==============================] - 23s 9s/step - loss: 0.6949 - accuracy: 0.5000 - val_loss: 0.7021 - val_accuracy: 0.4483\n",
      "Epoch 2/100\n",
      "2/2 [==============================] - 16s 7s/step - loss: 0.6956 - accuracy: 0.5089 - val_loss: 0.6899 - val_accuracy: 0.5517\n",
      "Epoch 3/100\n",
      "2/2 [==============================] - 13s 6s/step - loss: 0.6910 - accuracy: 0.5446 - val_loss: 0.6938 - val_accuracy: 0.4483\n",
      "Epoch 4/100\n",
      "2/2 [==============================] - 14s 7s/step - loss: 0.6894 - accuracy: 0.5714 - val_loss: 0.6901 - val_accuracy: 0.5172\n",
      "Epoch 5/100\n",
      "2/2 [==============================] - 14s 6s/step - loss: 0.6861 - accuracy: 0.5714 - val_loss: 0.6807 - val_accuracy: 0.5517\n",
      "Epoch 6/100\n",
      "2/2 [==============================] - 14s 7s/step - loss: 0.6807 - accuracy: 0.5268 - val_loss: 0.6807 - val_accuracy: 0.6897\n",
      "Epoch 7/100\n",
      "2/2 [==============================] - 14s 6s/step - loss: 0.6781 - accuracy: 0.5982 - val_loss: 0.6751 - val_accuracy: 0.5517\n",
      "Epoch 8/100\n",
      "2/2 [==============================] - 14s 6s/step - loss: 0.6943 - accuracy: 0.5179 - val_loss: 0.7156 - val_accuracy: 0.4483\n",
      "Epoch 9/100\n",
      "2/2 [==============================] - 14s 7s/step - loss: 0.6837 - accuracy: 0.5625 - val_loss: 0.6792 - val_accuracy: 0.5517\n",
      "Epoch 10/100\n",
      "2/2 [==============================] - 13s 6s/step - loss: 0.6900 - accuracy: 0.5089 - val_loss: 0.6795 - val_accuracy: 0.5862\n",
      "Epoch 11/100\n",
      "2/2 [==============================] - 14s 6s/step - loss: 0.6782 - accuracy: 0.5982 - val_loss: 0.6931 - val_accuracy: 0.4483\n",
      "Epoch 12/100\n",
      "2/2 [==============================] - 13s 6s/step - loss: 0.6815 - accuracy: 0.5714 - val_loss: 0.6766 - val_accuracy: 0.6552\n",
      "Epoch 13/100\n",
      "2/2 [==============================] - 13s 6s/step - loss: 0.6766 - accuracy: 0.5893 - val_loss: 0.6797 - val_accuracy: 0.5172\n",
      "Epoch 14/100\n",
      "2/2 [==============================] - 13s 6s/step - loss: 0.6632 - accuracy: 0.6607 - val_loss: 0.6611 - val_accuracy: 0.6552\n",
      "Epoch 15/100\n",
      "2/2 [==============================] - 13s 6s/step - loss: 0.6427 - accuracy: 0.7054 - val_loss: 0.6497 - val_accuracy: 0.5862\n",
      "Epoch 16/100\n",
      "2/2 [==============================] - 13s 6s/step - loss: 0.6327 - accuracy: 0.6786 - val_loss: 0.6735 - val_accuracy: 0.6897\n",
      "Epoch 17/100\n",
      "2/2 [==============================] - 13s 6s/step - loss: 0.6880 - accuracy: 0.5357 - val_loss: 0.7711 - val_accuracy: 0.4828\n",
      "Epoch 18/100\n",
      "2/2 [==============================] - 13s 6s/step - loss: 0.6564 - accuracy: 0.6429 - val_loss: 0.6991 - val_accuracy: 0.5517\n",
      "Epoch 19/100\n",
      "2/2 [==============================] - 13s 6s/step - loss: 0.6949 - accuracy: 0.5536 - val_loss: 0.6781 - val_accuracy: 0.4828\n",
      "Epoch 20/100\n",
      "2/2 [==============================] - 13s 6s/step - loss: 0.6266 - accuracy: 0.6161 - val_loss: 0.6500 - val_accuracy: 0.5862\n",
      "Epoch 21/100\n",
      "2/2 [==============================] - 13s 6s/step - loss: 0.6124 - accuracy: 0.7143 - val_loss: 0.6125 - val_accuracy: 0.7241\n",
      "Epoch 22/100\n",
      "2/2 [==============================] - 13s 6s/step - loss: 0.5795 - accuracy: 0.7321 - val_loss: 0.6240 - val_accuracy: 0.6552\n",
      "Epoch 23/100\n",
      "2/2 [==============================] - 13s 6s/step - loss: 0.5600 - accuracy: 0.7321 - val_loss: 0.5650 - val_accuracy: 0.6552\n",
      "Epoch 24/100\n",
      "2/2 [==============================] - 13s 6s/step - loss: 0.5060 - accuracy: 0.8036 - val_loss: 0.5523 - val_accuracy: 0.7241\n",
      "Epoch 25/100\n",
      "2/2 [==============================] - 13s 6s/step - loss: 0.6696 - accuracy: 0.6696 - val_loss: 0.8516 - val_accuracy: 0.5517\n",
      "Epoch 26/100\n",
      "2/2 [==============================] - 13s 6s/step - loss: 0.6028 - accuracy: 0.6518 - val_loss: 0.6567 - val_accuracy: 0.6897\n",
      "Epoch 27/100\n",
      "2/2 [==============================] - 13s 6s/step - loss: 0.6764 - accuracy: 0.7143 - val_loss: 0.6225 - val_accuracy: 0.6552\n",
      "Epoch 28/100\n",
      "2/2 [==============================] - 13s 6s/step - loss: 0.5661 - accuracy: 0.7232 - val_loss: 0.6667 - val_accuracy: 0.5862\n",
      "Epoch 29/100\n",
      "2/2 [==============================] - 13s 6s/step - loss: 0.5961 - accuracy: 0.6875 - val_loss: 0.6424 - val_accuracy: 0.6207\n",
      "Epoch 30/100\n",
      "2/2 [==============================] - 13s 6s/step - loss: 0.5652 - accuracy: 0.7768 - val_loss: 0.5933 - val_accuracy: 0.6552\n",
      "Epoch 31/100\n",
      "2/2 [==============================] - 13s 6s/step - loss: 0.5388 - accuracy: 0.7768 - val_loss: 0.5658 - val_accuracy: 0.6552\n",
      "Epoch 32/100\n",
      "2/2 [==============================] - 13s 6s/step - loss: 0.5064 - accuracy: 0.7679 - val_loss: 0.5876 - val_accuracy: 0.6552\n",
      "Epoch 33/100\n",
      "2/2 [==============================] - 13s 6s/step - loss: 0.4749 - accuracy: 0.7946 - val_loss: 0.5462 - val_accuracy: 0.7241\n",
      "Epoch 34/100\n",
      "2/2 [==============================] - 13s 6s/step - loss: 0.4211 - accuracy: 0.8304 - val_loss: 0.4691 - val_accuracy: 0.7241\n",
      "Epoch 35/100\n",
      "2/2 [==============================] - 13s 6s/step - loss: 0.3890 - accuracy: 0.8125 - val_loss: 0.5861 - val_accuracy: 0.6897\n",
      "Epoch 36/100\n",
      "2/2 [==============================] - 13s 6s/step - loss: 0.3622 - accuracy: 0.8214 - val_loss: 0.4578 - val_accuracy: 0.6897\n",
      "Epoch 37/100\n",
      "2/2 [==============================] - 13s 6s/step - loss: 0.4441 - accuracy: 0.7768 - val_loss: 0.7488 - val_accuracy: 0.6207\n",
      "Epoch 38/100\n",
      "2/2 [==============================] - 13s 6s/step - loss: 0.4141 - accuracy: 0.8036 - val_loss: 0.4529 - val_accuracy: 0.7931\n",
      "Epoch 39/100\n",
      "2/2 [==============================] - 13s 6s/step - loss: 0.2822 - accuracy: 0.9018 - val_loss: 0.9217 - val_accuracy: 0.6207\n",
      "Epoch 40/100\n",
      "2/2 [==============================] - 13s 6s/step - loss: 0.3667 - accuracy: 0.8214 - val_loss: 0.5514 - val_accuracy: 0.7241\n",
      "Epoch 41/100\n",
      "2/2 [==============================] - 14s 7s/step - loss: 0.2546 - accuracy: 0.9107 - val_loss: 0.5886 - val_accuracy: 0.7241\n",
      "Epoch 42/100\n",
      "2/2 [==============================] - 14s 7s/step - loss: 0.2530 - accuracy: 0.9018 - val_loss: 0.7899 - val_accuracy: 0.6552\n",
      "Epoch 43/100\n",
      "2/2 [==============================] - 14s 6s/step - loss: 0.2355 - accuracy: 0.9196 - val_loss: 0.6488 - val_accuracy: 0.7586\n",
      "Epoch 44/100\n",
      "2/2 [==============================] - 13s 6s/step - loss: 0.1858 - accuracy: 0.9464 - val_loss: 0.6014 - val_accuracy: 0.7586\n",
      "Epoch 45/100\n",
      "2/2 [==============================] - 13s 6s/step - loss: 0.1543 - accuracy: 0.9554 - val_loss: 0.8689 - val_accuracy: 0.6897\n",
      "Epoch 46/100\n",
      "2/2 [==============================] - 13s 6s/step - loss: 0.1555 - accuracy: 0.9286 - val_loss: 0.7657 - val_accuracy: 0.7586\n",
      "Epoch 47/100\n",
      "2/2 [==============================] - 13s 6s/step - loss: 0.1802 - accuracy: 0.9286 - val_loss: 1.4304 - val_accuracy: 0.6207\n",
      "Epoch 48/100\n",
      "2/2 [==============================] - 13s 6s/step - loss: 0.2590 - accuracy: 0.8839 - val_loss: 0.9549 - val_accuracy: 0.7241\n",
      "Epoch 49/100\n",
      "2/2 [==============================] - 13s 6s/step - loss: 0.1661 - accuracy: 0.9286 - val_loss: 1.0611 - val_accuracy: 0.7586\n",
      "Epoch 50/100\n",
      "2/2 [==============================] - 13s 6s/step - loss: 0.0884 - accuracy: 0.9732 - val_loss: 1.2954 - val_accuracy: 0.7241\n",
      "Epoch 51/100\n",
      "2/2 [==============================] - 13s 6s/step - loss: 0.0977 - accuracy: 0.9643 - val_loss: 0.9232 - val_accuracy: 0.6552\n",
      "Epoch 52/100\n",
      "2/2 [==============================] - 13s 6s/step - loss: 0.0848 - accuracy: 0.9821 - val_loss: 0.9382 - val_accuracy: 0.7241\n",
      "Epoch 53/100\n",
      "2/2 [==============================] - 14s 7s/step - loss: 0.0636 - accuracy: 0.9732 - val_loss: 1.2461 - val_accuracy: 0.6897\n",
      "Epoch 54/100\n",
      "2/2 [==============================] - 14s 6s/step - loss: 0.0768 - accuracy: 0.9911 - val_loss: 1.1410 - val_accuracy: 0.7586\n",
      "Epoch 55/100\n",
      "2/2 [==============================] - 13s 6s/step - loss: 0.0322 - accuracy: 1.0000 - val_loss: 1.0082 - val_accuracy: 0.7241\n",
      "Epoch 56/100\n",
      "2/2 [==============================] - 13s 6s/step - loss: 0.0525 - accuracy: 0.9821 - val_loss: 0.9731 - val_accuracy: 0.7241\n",
      "Epoch 57/100\n",
      "2/2 [==============================] - 13s 6s/step - loss: 0.0257 - accuracy: 1.0000 - val_loss: 1.0517 - val_accuracy: 0.7241\n",
      "Epoch 58/100\n",
      "2/2 [==============================] - 13s 6s/step - loss: 0.0180 - accuracy: 1.0000 - val_loss: 1.0931 - val_accuracy: 0.7241\n",
      "Epoch 59/100\n",
      "2/2 [==============================] - 13s 6s/step - loss: 0.0155 - accuracy: 1.0000 - val_loss: 1.1503 - val_accuracy: 0.7241\n",
      "Epoch 60/100\n",
      "2/2 [==============================] - 13s 6s/step - loss: 0.0158 - accuracy: 0.9911 - val_loss: 1.3485 - val_accuracy: 0.7931\n",
      "Epoch 61/100\n",
      "2/2 [==============================] - 13s 6s/step - loss: 0.0150 - accuracy: 1.0000 - val_loss: 1.4699 - val_accuracy: 0.7586\n",
      "Epoch 62/100\n",
      "2/2 [==============================] - 13s 6s/step - loss: 0.0071 - accuracy: 1.0000 - val_loss: 1.5010 - val_accuracy: 0.7586\n",
      "Epoch 63/100\n",
      "2/2 [==============================] - 13s 6s/step - loss: 0.0094 - accuracy: 1.0000 - val_loss: 1.4625 - val_accuracy: 0.7241\n",
      "Epoch 64/100\n",
      "2/2 [==============================] - 13s 6s/step - loss: 0.0040 - accuracy: 1.0000 - val_loss: 1.4301 - val_accuracy: 0.7241\n",
      "Epoch 65/100\n",
      "2/2 [==============================] - 13s 6s/step - loss: 0.0053 - accuracy: 1.0000 - val_loss: 1.4310 - val_accuracy: 0.7586\n",
      "Epoch 66/100\n",
      "2/2 [==============================] - 13s 6s/step - loss: 0.0035 - accuracy: 1.0000 - val_loss: 1.4710 - val_accuracy: 0.7586\n",
      "Epoch 67/100\n",
      "2/2 [==============================] - 13s 6s/step - loss: 0.0046 - accuracy: 1.0000 - val_loss: 1.4408 - val_accuracy: 0.7586\n",
      "Epoch 68/100\n",
      "2/2 [==============================] - 13s 6s/step - loss: 0.0030 - accuracy: 1.0000 - val_loss: 1.4958 - val_accuracy: 0.7586\n",
      "Epoch 69/100\n",
      "2/2 [==============================] - 13s 6s/step - loss: 0.0012 - accuracy: 1.0000 - val_loss: 1.5774 - val_accuracy: 0.7241\n",
      "Epoch 70/100\n",
      "2/2 [==============================] - 13s 6s/step - loss: 0.0028 - accuracy: 1.0000 - val_loss: 1.6081 - val_accuracy: 0.7586\n",
      "Epoch 71/100\n",
      "2/2 [==============================] - 13s 6s/step - loss: 0.0015 - accuracy: 1.0000 - val_loss: 1.6386 - val_accuracy: 0.7586\n",
      "Epoch 72/100\n",
      "2/2 [==============================] - 13s 6s/step - loss: 9.6409e-04 - accuracy: 1.0000 - val_loss: 1.7031 - val_accuracy: 0.7931\n",
      "Epoch 73/100\n",
      "2/2 [==============================] - 13s 6s/step - loss: 0.0011 - accuracy: 1.0000 - val_loss: 1.7730 - val_accuracy: 0.7586\n",
      "Epoch 74/100\n",
      "2/2 [==============================] - 13s 6s/step - loss: 0.0011 - accuracy: 1.0000 - val_loss: 1.8190 - val_accuracy: 0.7586\n",
      "Epoch 75/100\n",
      "2/2 [==============================] - 13s 6s/step - loss: 4.0571e-04 - accuracy: 1.0000 - val_loss: 1.8536 - val_accuracy: 0.7586\n",
      "Epoch 76/100\n",
      "2/2 [==============================] - 13s 6s/step - loss: 3.9624e-04 - accuracy: 1.0000 - val_loss: 1.8796 - val_accuracy: 0.7586\n",
      "Epoch 77/100\n",
      "2/2 [==============================] - 13s 6s/step - loss: 8.8532e-04 - accuracy: 1.0000 - val_loss: 1.8837 - val_accuracy: 0.7586\n",
      "Epoch 78/100\n",
      "2/2 [==============================] - 13s 6s/step - loss: 3.0605e-04 - accuracy: 1.0000 - val_loss: 1.8911 - val_accuracy: 0.7931\n",
      "Epoch 79/100\n",
      "2/2 [==============================] - 13s 6s/step - loss: 0.0022 - accuracy: 1.0000 - val_loss: 1.9563 - val_accuracy: 0.7586\n",
      "Epoch 80/100\n",
      "2/2 [==============================] - 13s 6s/step - loss: 4.0838e-04 - accuracy: 1.0000 - val_loss: 2.0822 - val_accuracy: 0.7241\n",
      "Epoch 81/100\n",
      "2/2 [==============================] - 13s 6s/step - loss: 7.0762e-04 - accuracy: 1.0000 - val_loss: 2.1649 - val_accuracy: 0.7241\n",
      "Epoch 82/100\n",
      "2/2 [==============================] - 13s 6s/step - loss: 9.0712e-04 - accuracy: 1.0000 - val_loss: 2.1738 - val_accuracy: 0.7241\n",
      "Epoch 83/100\n",
      "2/2 [==============================] - 13s 6s/step - loss: 7.3609e-04 - accuracy: 1.0000 - val_loss: 2.1352 - val_accuracy: 0.7586\n",
      "Epoch 84/100\n",
      "2/2 [==============================] - 13s 6s/step - loss: 8.7954e-04 - accuracy: 1.0000 - val_loss: 2.0658 - val_accuracy: 0.7586\n",
      "Epoch 85/100\n",
      "2/2 [==============================] - 13s 6s/step - loss: 2.2438e-04 - accuracy: 1.0000 - val_loss: 2.0393 - val_accuracy: 0.8276\n",
      "Epoch 86/100\n",
      "2/2 [==============================] - 13s 6s/step - loss: 5.7757e-04 - accuracy: 1.0000 - val_loss: 2.0461 - val_accuracy: 0.7931\n",
      "Epoch 87/100\n",
      "2/2 [==============================] - 13s 6s/step - loss: 5.1816e-04 - accuracy: 1.0000 - val_loss: 2.0517 - val_accuracy: 0.7586\n",
      "Epoch 88/100\n",
      "2/2 [==============================] - 13s 6s/step - loss: 6.5857e-04 - accuracy: 1.0000 - val_loss: 2.0509 - val_accuracy: 0.8276\n",
      "Epoch 89/100\n",
      "2/2 [==============================] - 13s 6s/step - loss: 6.7600e-04 - accuracy: 1.0000 - val_loss: 2.0648 - val_accuracy: 0.7931\n",
      "Epoch 90/100\n",
      "2/2 [==============================] - 13s 6s/step - loss: 3.0199e-04 - accuracy: 1.0000 - val_loss: 2.0852 - val_accuracy: 0.7586\n",
      "Epoch 91/100\n",
      "2/2 [==============================] - 13s 6s/step - loss: 2.1685e-04 - accuracy: 1.0000 - val_loss: 2.0959 - val_accuracy: 0.7586\n",
      "Epoch 92/100\n",
      "2/2 [==============================] - 13s 7s/step - loss: 6.5009e-04 - accuracy: 1.0000 - val_loss: 2.0933 - val_accuracy: 0.7586\n",
      "Epoch 93/100\n",
      "2/2 [==============================] - 13s 6s/step - loss: 4.9453e-04 - accuracy: 1.0000 - val_loss: 2.0827 - val_accuracy: 0.7931\n",
      "Epoch 94/100\n",
      "2/2 [==============================] - 13s 6s/step - loss: 6.8223e-04 - accuracy: 1.0000 - val_loss: 2.0819 - val_accuracy: 0.7931\n",
      "Epoch 95/100\n",
      "2/2 [==============================] - 13s 6s/step - loss: 1.3749e-04 - accuracy: 1.0000 - val_loss: 2.0945 - val_accuracy: 0.7586\n",
      "Epoch 96/100\n",
      "2/2 [==============================] - 14s 6s/step - loss: 4.5945e-04 - accuracy: 1.0000 - val_loss: 2.1054 - val_accuracy: 0.7586\n",
      "Epoch 97/100\n",
      "2/2 [==============================] - 13s 6s/step - loss: 3.2327e-04 - accuracy: 1.0000 - val_loss: 2.1091 - val_accuracy: 0.7931\n",
      "Epoch 98/100\n",
      "2/2 [==============================] - 13s 6s/step - loss: 2.3732e-04 - accuracy: 1.0000 - val_loss: 2.1115 - val_accuracy: 0.7931\n",
      "Epoch 99/100\n",
      "2/2 [==============================] - 13s 6s/step - loss: 2.2821e-04 - accuracy: 1.0000 - val_loss: 2.1141 - val_accuracy: 0.7931\n",
      "Epoch 100/100\n",
      "2/2 [==============================] - 14s 6s/step - loss: 2.2377e-04 - accuracy: 1.0000 - val_loss: 2.1178 - val_accuracy: 0.7931\n"
     ]
    }
   ],
   "source": [
    "log_dir = \"logs/fit/\" + datetime.datetime.now().strftime(\"%Y%m%d-%H%M%S\")\n",
    "tensorboard_callback = tf.keras.callbacks.TensorBoard(log_dir=log_dir, histogram_freq=1)\n",
    "history = model.fit(x_train, y_train, batch_size= 64, verbose = 'auto', epochs = 100, validation_data = (x_test, y_test), shuffle = False, callbacks=[tensorboard_callback])"
   ]
  },
  {
   "cell_type": "code",
   "execution_count": 12,
   "metadata": {},
   "outputs": [],
   "source": [
    "model.save('trialmodel5_100epochs.h5')"
   ]
  },
  {
   "cell_type": "code",
   "execution_count": 13,
   "metadata": {},
   "outputs": [
    {
     "data": {
      "image/png": "[encoded data removed]",
      "text/plain": [
       "<Figure size 432x288 with 1 Axes>"
      ]
     },
     "metadata": {
      "needs_background": "light"
     },
     "output_type": "display_data"
    }
   ],
   "source": [
    "#plot the training and validation accuracy and loss at each epoch\n",
    "loss = history.history['loss']\n",
    "val_loss = history.history['val_loss']\n",
    "epochs = range(1, len(loss) + 1)\n",
    "plt.plot(epochs, loss, 'y', label='Training loss')\n",
    "plt.plot(epochs, val_loss, 'r', label='Validation loss')\n",
    "plt.title('Training and validation loss')\n",
    "plt.xlabel('Epochs')\n",
    "plt.ylabel('Loss')\n",
    "plt.legend()\n",
    "plt.show()"
   ]
  },
  {
   "cell_type": "code",
   "execution_count": 14,
   "metadata": {},
   "outputs": [
    {
     "data": {
      "image/png": "[encoded data removed]",
      "text/plain": [
       "<Figure size 432x288 with 1 Axes>"
      ]
     },
     "metadata": {
      "needs_background": "light"
     },
     "output_type": "display_data"
    }
   ],
   "source": [
    "acc = history.history['accuracy']\n",
    "val_acc = history.history['val_accuracy']\n",
    "plt.plot(epochs, acc, 'y', label='Training acc')\n",
    "plt.plot(epochs, val_acc, 'r', label='Validation acc')\n",
    "plt.title('Training and validation accuracy')\n",
    "plt.xlabel('Epochs')\n",
    "plt.ylabel('Accuracy')\n",
    "plt.legend()\n",
    "plt.show()"
   ]
  },
  {
   "cell_type": "code",
   "execution_count": 15,
   "metadata": {},
   "outputs": [
    {
     "name": "stdout",
     "output_type": "stream",
     "text": [
      "1/1 [==============================] - 1s 823ms/step - loss: 2.1178 - accuracy: 0.7931\n",
      "Accuracy =  79.31034564971924 %\n"
     ]
    }
   ],
   "source": [
    "from keras.models import load_model\n",
    "model1 = load_model('trialmodel1_100epochs.h5')\n",
    "#For 300 epochs\n",
    "_, acc = model.evaluate(x_test, y_test)\n",
    "print(\"Accuracy = \", (acc * 100.0), \"%\")"
   ]
  },
  {
   "cell_type": "code",
   "execution_count": 16,
   "metadata": {},
   "outputs": [
    {
     "name": "stdout",
     "output_type": "stream",
     "text": [
      "[[11  2]\n",
      " [ 5 11]]\n"
     ]
    }
   ],
   "source": [
    "from sklearn.metrics import confusion_matrix\n",
    "mythreshold=0.908\n",
    "y_pred = (model.predict(x_test)>= mythreshold).astype(int)\n",
    "cm=confusion_matrix(y_test, y_pred)  \n",
    "print(cm)"
   ]
  }
 ],
 "metadata": {
  "interpreter": {
   "hash": "2ef69e4644868e93b20bcd6ae5ca96fa548c1e71c8a97ef520e03cfc9b9d3a7c"
  },
  "kernelspec": {
   "display_name": "Python 3.7.4 ('base')",
   "language": "python",
   "name": "python3"
  },
  "language_info": {
   "codemirror_mode": {
    "name": "ipython",
    "version": 3
   },
   "file_extension": ".py",
   "mimetype": "text/x-python",
   "name": "python",
   "nbconvert_exporter": "python",
   "pygments_lexer": "ipython3",
   "version": "3.7.4"
  },
  "orig_nbformat": 4
 },
 "nbformat": 4,
 "nbformat_minor": 2
}
