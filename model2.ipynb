{
 "cells": [
  {
   "cell_type": "code",
   "execution_count": 1,
   "metadata": {},
   "outputs": [],
   "source": [
    "import numpy as np\n",
    "import skimage as ski\n",
    "from skimage import io\n",
    "import matplotlib.pyplot as plt\n",
    "import matplotlib.image as mpltimg\n",
    "import os\n",
    "import cv2\n",
    "from PIL import Image\n",
    "import datetime"
   ]
  },
  {
   "cell_type": "code",
   "execution_count": 2,
   "metadata": {},
   "outputs": [],
   "source": [
    "import tensorflow as tf\n",
    "from tensorflow import keras\n",
    "from keras.models import Sequential\n",
    "from keras.preprocessing.image import ImageDataGenerator\n",
    "from keras.layers import Conv2D, MaxPooling2D, Activation, Flatten, BatchNormalization, Dropout, Dense\n",
    "from keras.utils import conv_utils "
   ]
  },
  {
   "cell_type": "code",
   "execution_count": 3,
   "metadata": {},
   "outputs": [],
   "source": [
    "dataset = []\n",
    "labels = []\n",
    "# importing the dataset first for train/test \n",
    "# labels are binary (1, 0)\n",
    "# 1 stands for infected\n",
    "# 0 stands for control"
   ]
  },
  {
   "cell_type": "code",
   "execution_count": 4,
   "metadata": {},
   "outputs": [],
   "source": [
    "inf_imgs=os.listdir ('C:\\\\Users\\\\MonPc\\\\Desktop\\\\version 2.0\\\\infected')\n",
    "for i, image_name in enumerate(inf_imgs):\n",
    "    img = cv2.imread('C:\\\\Users\\\\MonPc\\\\Desktop\\\\version 2.0\\\\infected\\\\' +  image_name)\n",
    "    img = Image.fromarray(img, mode='RGB')\n",
    "    img = img.resize((100, 100))\n",
    "    dataset.append(np.array(img))\n",
    "    labels.append(1)"
   ]
  },
  {
   "cell_type": "code",
   "execution_count": 5,
   "metadata": {},
   "outputs": [],
   "source": [
    "cntrl_imgs=os.listdir('C:\\\\Users\\\\MonPc\\\\Desktop\\\\version 2.0\\\\control')\n",
    "for i, image_name in enumerate(cntrl_imgs):\n",
    "    img = cv2.imread('C:\\\\Users\\\\MonPc\\\\Desktop\\\\version 2.0\\\\control\\\\' + image_name)\n",
    "    img = Image.fromarray(img, mode='RGB')\n",
    "    img = img.resize((100, 100))\n",
    "    dataset.append(np.array(img))\n",
    "    labels.append(0)"
   ]
  },
  {
   "cell_type": "code",
   "execution_count": 6,
   "metadata": {},
   "outputs": [],
   "source": [
    "# converting dataset and labels from lists to np.ndarray() for the upcoming work\n",
    "dataset = np.array(dataset)\n",
    "labels = np.array(labels)"
   ]
  },
  {
   "cell_type": "code",
   "execution_count": 7,
   "metadata": {},
   "outputs": [],
   "source": [
    "#splitting the dataset for the training\n",
    "from sklearn.model_selection import train_test_split\n",
    "x_train, x_test, y_train, y_test = train_test_split(dataset, labels, test_size = 0.20, random_state = 0)"
   ]
  },
  {
   "cell_type": "code",
   "execution_count": 8,
   "metadata": {},
   "outputs": [],
   "source": [
    "x_train = tf.keras.utils.normalize(x_train, axis=1)\n",
    "x_test = tf.keras.utils.normalize(x_test, axis=1)"
   ]
  },
  {
   "cell_type": "code",
   "execution_count": 9,
   "metadata": {},
   "outputs": [],
   "source": [
    "#creatin za model\n",
    "model = Sequential()\n",
    "\n",
    "model.add(Conv2D(32, (3, 3), input_shape=(100, 100, 3), activation='relu'))\n",
    "model.add(MaxPooling2D(pool_size=(2, 2)))\n",
    "\n",
    "model.add(Conv2D(64, (3, 3), kernel_initializer='he_uniform', activation='relu'))\n",
    "model.add(MaxPooling2D(pool_size=(2, 2)))\n",
    "\n",
    "model.add(Conv2D(128, (3, 3), kernel_initializer='he_uniform', activation='relu'))\n",
    "model.add(MaxPooling2D(pool_size=(2, 2)))\n",
    "# model.add(BatchNormalization())\n",
    "\n",
    "model.add(Flatten())\n",
    "model.add(Dense(64))\n",
    "model.add(Activation('relu'))\n",
    "model.add(Dropout(0.2))\n",
    "\n",
    "model.add(Dense(1))\n",
    "\n",
    "model.add(Activation('sigmoid')) \n"
   ]
  },
  {
   "cell_type": "code",
   "execution_count": 10,
   "metadata": {},
   "outputs": [
    {
     "name": "stdout",
     "output_type": "stream",
     "text": [
      "Model: \"sequential\"\n",
      "_________________________________________________________________\n",
      "Layer (type)                 Output Shape              Param #   \n",
      "=================================================================\n",
      "conv2d (Conv2D)              (None, 98, 98, 32)        896       \n",
      "_________________________________________________________________\n",
      "max_pooling2d (MaxPooling2D) (None, 49, 49, 32)        0         \n",
      "_________________________________________________________________\n",
      "conv2d_1 (Conv2D)            (None, 47, 47, 64)        18496     \n",
      "_________________________________________________________________\n",
      "max_pooling2d_1 (MaxPooling2 (None, 23, 23, 64)        0         \n",
      "_________________________________________________________________\n",
      "conv2d_2 (Conv2D)            (None, 21, 21, 128)       73856     \n",
      "_________________________________________________________________\n",
      "max_pooling2d_2 (MaxPooling2 (None, 10, 10, 128)       0         \n",
      "_________________________________________________________________\n",
      "flatten (Flatten)            (None, 12800)             0         \n",
      "_________________________________________________________________\n",
      "dense (Dense)                (None, 64)                819264    \n",
      "_________________________________________________________________\n",
      "activation (Activation)      (None, 64)                0         \n",
      "_________________________________________________________________\n",
      "dropout (Dropout)            (None, 64)                0         \n",
      "_________________________________________________________________\n",
      "dense_1 (Dense)              (None, 1)                 65        \n",
      "_________________________________________________________________\n",
      "activation_1 (Activation)    (None, 1)                 0         \n",
      "=================================================================\n",
      "Total params: 912,577\n",
      "Trainable params: 912,577\n",
      "Non-trainable params: 0\n",
      "_________________________________________________________________\n",
      "None\n"
     ]
    }
   ],
   "source": [
    "#we are performing a binary classification\n",
    "model.compile(loss='binary_crossentropy', optimizer='adam', metrics=['accuracy'])\n",
    "print(model.summary())"
   ]
  },
  {
   "cell_type": "code",
   "execution_count": 11,
   "metadata": {},
   "outputs": [
    {
     "name": "stdout",
     "output_type": "stream",
     "text": [
      "Epoch 1/100\n",
      "4/4 [==============================] - 8s 1s/step - loss: 0.7113 - accuracy: 0.4554 - val_loss: 0.6895 - val_accuracy: 0.5517\n",
      "Epoch 2/100\n",
      "4/4 [==============================] - 2s 529ms/step - loss: 0.6945 - accuracy: 0.4643 - val_loss: 0.6877 - val_accuracy: 0.5517\n",
      "Epoch 3/100\n",
      "4/4 [==============================] - 2s 472ms/step - loss: 0.6928 - accuracy: 0.4732 - val_loss: 0.6871 - val_accuracy: 0.5517\n",
      "Epoch 4/100\n",
      "4/4 [==============================] - 2s 477ms/step - loss: 0.6897 - accuracy: 0.4911 - val_loss: 0.6819 - val_accuracy: 0.5517\n",
      "Epoch 5/100\n",
      "4/4 [==============================] - 3s 621ms/step - loss: 0.6841 - accuracy: 0.5268 - val_loss: 0.6715 - val_accuracy: 0.5517\n",
      "Epoch 6/100\n",
      "4/4 [==============================] - 2s 485ms/step - loss: 0.6757 - accuracy: 0.6339 - val_loss: 0.6550 - val_accuracy: 0.5517\n",
      "Epoch 7/100\n",
      "4/4 [==============================] - 2s 473ms/step - loss: 0.6639 - accuracy: 0.6964 - val_loss: 0.6350 - val_accuracy: 0.7241\n",
      "Epoch 8/100\n",
      "4/4 [==============================] - 2s 501ms/step - loss: 0.6270 - accuracy: 0.7589 - val_loss: 0.6131 - val_accuracy: 0.6552\n",
      "Epoch 9/100\n",
      "4/4 [==============================] - 2s 504ms/step - loss: 0.6104 - accuracy: 0.6875 - val_loss: 0.5844 - val_accuracy: 0.7241\n",
      "Epoch 10/100\n",
      "4/4 [==============================] - 2s 430ms/step - loss: 0.5487 - accuracy: 0.7768 - val_loss: 0.5500 - val_accuracy: 0.7241\n",
      "Epoch 11/100\n",
      "4/4 [==============================] - 2s 419ms/step - loss: 0.5421 - accuracy: 0.7232 - val_loss: 0.5221 - val_accuracy: 0.7241\n",
      "Epoch 12/100\n",
      "4/4 [==============================] - 2s 423ms/step - loss: 0.4674 - accuracy: 0.7946 - val_loss: 0.4776 - val_accuracy: 0.7931\n",
      "Epoch 13/100\n",
      "4/4 [==============================] - 2s 417ms/step - loss: 0.4402 - accuracy: 0.8214 - val_loss: 0.4870 - val_accuracy: 0.7586\n",
      "Epoch 14/100\n",
      "4/4 [==============================] - 2s 421ms/step - loss: 0.4386 - accuracy: 0.7768 - val_loss: 0.5001 - val_accuracy: 0.7586\n",
      "Epoch 15/100\n",
      "4/4 [==============================] - 2s 420ms/step - loss: 0.5249 - accuracy: 0.7500 - val_loss: 0.4938 - val_accuracy: 0.7586\n",
      "Epoch 16/100\n",
      "4/4 [==============================] - 2s 417ms/step - loss: 0.4042 - accuracy: 0.7946 - val_loss: 0.5059 - val_accuracy: 0.7586\n",
      "Epoch 17/100\n",
      "4/4 [==============================] - 2s 424ms/step - loss: 0.3815 - accuracy: 0.8393 - val_loss: 0.4685 - val_accuracy: 0.7931\n",
      "Epoch 18/100\n",
      "4/4 [==============================] - 2s 421ms/step - loss: 0.3262 - accuracy: 0.8750 - val_loss: 0.4554 - val_accuracy: 0.7931\n",
      "Epoch 19/100\n",
      "4/4 [==============================] - 2s 422ms/step - loss: 0.3001 - accuracy: 0.8750 - val_loss: 0.4438 - val_accuracy: 0.7931\n",
      "Epoch 20/100\n",
      "4/4 [==============================] - 4s 938ms/step - loss: 0.2978 - accuracy: 0.8482 - val_loss: 0.4971 - val_accuracy: 0.7586\n",
      "Epoch 21/100\n",
      "4/4 [==============================] - 2s 442ms/step - loss: 0.2575 - accuracy: 0.8839 - val_loss: 0.4975 - val_accuracy: 0.7241\n",
      "Epoch 22/100\n",
      "4/4 [==============================] - 2s 481ms/step - loss: 0.2153 - accuracy: 0.9196 - val_loss: 0.5035 - val_accuracy: 0.7931\n",
      "Epoch 23/100\n",
      "4/4 [==============================] - 2s 436ms/step - loss: 0.2095 - accuracy: 0.9196 - val_loss: 0.5223 - val_accuracy: 0.7586\n",
      "Epoch 24/100\n",
      "4/4 [==============================] - 2s 433ms/step - loss: 0.1984 - accuracy: 0.9375 - val_loss: 0.6100 - val_accuracy: 0.7931\n",
      "Epoch 25/100\n",
      "4/4 [==============================] - 2s 422ms/step - loss: 0.3146 - accuracy: 0.8750 - val_loss: 0.5977 - val_accuracy: 0.7931\n",
      "Epoch 26/100\n",
      "4/4 [==============================] - 2s 432ms/step - loss: 0.2129 - accuracy: 0.8929 - val_loss: 0.6661 - val_accuracy: 0.6552\n",
      "Epoch 27/100\n",
      "4/4 [==============================] - 2s 430ms/step - loss: 0.1765 - accuracy: 0.9464 - val_loss: 0.5753 - val_accuracy: 0.8276\n",
      "Epoch 28/100\n",
      "4/4 [==============================] - 2s 427ms/step - loss: 0.1488 - accuracy: 0.9464 - val_loss: 0.6620 - val_accuracy: 0.6552\n",
      "Epoch 29/100\n",
      "4/4 [==============================] - 2s 423ms/step - loss: 0.1249 - accuracy: 0.9732 - val_loss: 0.5955 - val_accuracy: 0.8276\n",
      "Epoch 30/100\n",
      "4/4 [==============================] - 2s 423ms/step - loss: 0.1068 - accuracy: 0.9732 - val_loss: 0.6211 - val_accuracy: 0.7241\n",
      "Epoch 31/100\n",
      "4/4 [==============================] - 2s 436ms/step - loss: 0.0875 - accuracy: 0.9732 - val_loss: 0.5984 - val_accuracy: 0.8276\n",
      "Epoch 32/100\n",
      "4/4 [==============================] - 2s 430ms/step - loss: 0.0905 - accuracy: 0.9732 - val_loss: 0.6029 - val_accuracy: 0.8621\n",
      "Epoch 33/100\n",
      "4/4 [==============================] - 2s 428ms/step - loss: 0.0719 - accuracy: 1.0000 - val_loss: 0.6367 - val_accuracy: 0.7241\n",
      "Epoch 34/100\n",
      "4/4 [==============================] - 2s 521ms/step - loss: 0.0803 - accuracy: 0.9821 - val_loss: 0.6476 - val_accuracy: 0.8621\n",
      "Epoch 35/100\n",
      "4/4 [==============================] - 2s 487ms/step - loss: 0.0659 - accuracy: 0.9911 - val_loss: 0.6725 - val_accuracy: 0.8276\n",
      "Epoch 36/100\n",
      "4/4 [==============================] - 2s 473ms/step - loss: 0.0678 - accuracy: 0.9732 - val_loss: 0.7420 - val_accuracy: 0.7241\n",
      "Epoch 37/100\n",
      "4/4 [==============================] - 2s 454ms/step - loss: 0.0569 - accuracy: 0.9821 - val_loss: 0.7228 - val_accuracy: 0.7586\n",
      "Epoch 38/100\n",
      "4/4 [==============================] - 2s 493ms/step - loss: 0.0388 - accuracy: 1.0000 - val_loss: 0.7750 - val_accuracy: 0.8621\n",
      "Epoch 39/100\n",
      "4/4 [==============================] - 2s 627ms/step - loss: 0.0334 - accuracy: 1.0000 - val_loss: 0.8610 - val_accuracy: 0.7241\n",
      "Epoch 40/100\n",
      "4/4 [==============================] - 5s 946ms/step - loss: 0.0267 - accuracy: 1.0000 - val_loss: 0.8178 - val_accuracy: 0.7931\n",
      "Epoch 41/100\n",
      "4/4 [==============================] - 2s 505ms/step - loss: 0.0329 - accuracy: 1.0000 - val_loss: 0.8113 - val_accuracy: 0.8621\n",
      "Epoch 42/100\n",
      "4/4 [==============================] - 2s 456ms/step - loss: 0.0196 - accuracy: 1.0000 - val_loss: 0.9398 - val_accuracy: 0.6552\n",
      "Epoch 43/100\n",
      "4/4 [==============================] - 2s 503ms/step - loss: 0.0337 - accuracy: 0.9911 - val_loss: 0.8003 - val_accuracy: 0.7931\n",
      "Epoch 44/100\n",
      "4/4 [==============================] - 2s 495ms/step - loss: 0.0226 - accuracy: 1.0000 - val_loss: 0.7901 - val_accuracy: 0.7931\n",
      "Epoch 45/100\n",
      "4/4 [==============================] - 2s 453ms/step - loss: 0.0166 - accuracy: 1.0000 - val_loss: 0.7791 - val_accuracy: 0.8276\n",
      "Epoch 46/100\n",
      "4/4 [==============================] - 2s 413ms/step - loss: 0.0091 - accuracy: 1.0000 - val_loss: 0.7896 - val_accuracy: 0.7931\n",
      "Epoch 47/100\n",
      "4/4 [==============================] - 2s 566ms/step - loss: 0.0103 - accuracy: 1.0000 - val_loss: 0.8110 - val_accuracy: 0.7931\n",
      "Epoch 48/100\n",
      "4/4 [==============================] - 2s 467ms/step - loss: 0.0099 - accuracy: 1.0000 - val_loss: 0.8622 - val_accuracy: 0.7931\n",
      "Epoch 49/100\n",
      "4/4 [==============================] - 2s 524ms/step - loss: 0.0063 - accuracy: 1.0000 - val_loss: 0.8778 - val_accuracy: 0.7931\n",
      "Epoch 50/100\n",
      "4/4 [==============================] - 2s 518ms/step - loss: 0.0062 - accuracy: 1.0000 - val_loss: 0.9086 - val_accuracy: 0.7931\n",
      "Epoch 51/100\n",
      "4/4 [==============================] - 2s 525ms/step - loss: 0.0057 - accuracy: 1.0000 - val_loss: 0.9332 - val_accuracy: 0.7931\n",
      "Epoch 52/100\n",
      "4/4 [==============================] - 2s 465ms/step - loss: 0.0046 - accuracy: 1.0000 - val_loss: 0.9516 - val_accuracy: 0.7931\n",
      "Epoch 53/100\n",
      "4/4 [==============================] - 2s 495ms/step - loss: 0.0036 - accuracy: 1.0000 - val_loss: 0.9685 - val_accuracy: 0.7931\n",
      "Epoch 54/100\n",
      "4/4 [==============================] - 2s 463ms/step - loss: 0.0088 - accuracy: 1.0000 - val_loss: 1.0134 - val_accuracy: 0.8621\n",
      "Epoch 55/100\n",
      "4/4 [==============================] - 2s 475ms/step - loss: 0.0089 - accuracy: 1.0000 - val_loss: 0.9513 - val_accuracy: 0.7931\n",
      "Epoch 56/100\n",
      "4/4 [==============================] - 2s 469ms/step - loss: 0.0030 - accuracy: 1.0000 - val_loss: 0.9363 - val_accuracy: 0.7931\n",
      "Epoch 57/100\n",
      "4/4 [==============================] - 2s 528ms/step - loss: 0.0061 - accuracy: 1.0000 - val_loss: 0.9386 - val_accuracy: 0.7931\n",
      "Epoch 58/100\n",
      "4/4 [==============================] - 2s 464ms/step - loss: 0.0050 - accuracy: 1.0000 - val_loss: 0.9495 - val_accuracy: 0.8276\n",
      "Epoch 59/100\n",
      "4/4 [==============================] - 2s 458ms/step - loss: 0.0052 - accuracy: 1.0000 - val_loss: 0.9716 - val_accuracy: 0.7931\n",
      "Epoch 60/100\n",
      "4/4 [==============================] - 2s 464ms/step - loss: 0.0065 - accuracy: 1.0000 - val_loss: 0.9844 - val_accuracy: 0.8621\n",
      "Epoch 61/100\n",
      "4/4 [==============================] - 2s 453ms/step - loss: 0.0081 - accuracy: 1.0000 - val_loss: 1.1348 - val_accuracy: 0.7241\n",
      "Epoch 62/100\n",
      "4/4 [==============================] - 2s 490ms/step - loss: 0.0123 - accuracy: 1.0000 - val_loss: 1.2366 - val_accuracy: 0.8966\n",
      "Epoch 63/100\n",
      "4/4 [==============================] - 2s 504ms/step - loss: 0.1781 - accuracy: 0.9375 - val_loss: 2.4930 - val_accuracy: 0.6897\n",
      "Epoch 64/100\n",
      "4/4 [==============================] - 2s 489ms/step - loss: 0.7493 - accuracy: 0.7946 - val_loss: 1.4264 - val_accuracy: 0.5172\n",
      "Epoch 65/100\n",
      "4/4 [==============================] - 2s 457ms/step - loss: 0.2771 - accuracy: 0.8839 - val_loss: 0.7390 - val_accuracy: 0.7931\n",
      "Epoch 66/100\n",
      "4/4 [==============================] - 2s 457ms/step - loss: 0.3151 - accuracy: 0.8393 - val_loss: 1.1110 - val_accuracy: 0.5862\n",
      "Epoch 67/100\n",
      "4/4 [==============================] - 2s 450ms/step - loss: 0.3702 - accuracy: 0.8036 - val_loss: 0.7305 - val_accuracy: 0.8276\n",
      "Epoch 68/100\n",
      "4/4 [==============================] - 2s 451ms/step - loss: 0.2859 - accuracy: 0.8393 - val_loss: 0.8173 - val_accuracy: 0.6552\n",
      "Epoch 69/100\n",
      "4/4 [==============================] - 2s 461ms/step - loss: 0.2220 - accuracy: 0.9375 - val_loss: 0.8755 - val_accuracy: 0.6207\n",
      "Epoch 70/100\n",
      "4/4 [==============================] - 2s 576ms/step - loss: 0.2027 - accuracy: 0.9464 - val_loss: 0.8522 - val_accuracy: 0.6552\n",
      "Epoch 71/100\n",
      "4/4 [==============================] - 2s 464ms/step - loss: 0.1486 - accuracy: 0.9643 - val_loss: 0.8748 - val_accuracy: 0.6897\n",
      "Epoch 72/100\n",
      "4/4 [==============================] - 2s 463ms/step - loss: 0.1232 - accuracy: 0.9911 - val_loss: 0.9600 - val_accuracy: 0.6552\n",
      "Epoch 73/100\n",
      "4/4 [==============================] - 2s 465ms/step - loss: 0.0995 - accuracy: 0.9732 - val_loss: 1.0446 - val_accuracy: 0.6897\n",
      "Epoch 74/100\n",
      "4/4 [==============================] - 2s 449ms/step - loss: 0.0788 - accuracy: 0.9821 - val_loss: 0.9641 - val_accuracy: 0.7931\n",
      "Epoch 75/100\n",
      "4/4 [==============================] - 2s 456ms/step - loss: 0.0766 - accuracy: 0.9821 - val_loss: 1.0059 - val_accuracy: 0.6897\n",
      "Epoch 76/100\n",
      "4/4 [==============================] - 2s 477ms/step - loss: 0.0554 - accuracy: 0.9911 - val_loss: 0.9473 - val_accuracy: 0.7241\n",
      "Epoch 77/100\n",
      "4/4 [==============================] - 2s 593ms/step - loss: 0.0370 - accuracy: 1.0000 - val_loss: 0.9459 - val_accuracy: 0.7931\n",
      "Epoch 78/100\n",
      "4/4 [==============================] - 2s 428ms/step - loss: 0.0503 - accuracy: 0.9911 - val_loss: 0.9307 - val_accuracy: 0.7241\n",
      "Epoch 79/100\n",
      "4/4 [==============================] - 2s 430ms/step - loss: 0.0370 - accuracy: 1.0000 - val_loss: 0.8471 - val_accuracy: 0.7931\n",
      "Epoch 80/100\n",
      "4/4 [==============================] - 2s 415ms/step - loss: 0.0331 - accuracy: 0.9911 - val_loss: 0.8340 - val_accuracy: 0.7931\n",
      "Epoch 81/100\n",
      "4/4 [==============================] - 2s 421ms/step - loss: 0.0180 - accuracy: 1.0000 - val_loss: 0.8128 - val_accuracy: 0.7241\n",
      "Epoch 82/100\n",
      "4/4 [==============================] - 2s 427ms/step - loss: 0.0176 - accuracy: 1.0000 - val_loss: 0.8293 - val_accuracy: 0.7586\n",
      "Epoch 83/100\n",
      "4/4 [==============================] - 2s 424ms/step - loss: 0.0148 - accuracy: 1.0000 - val_loss: 0.8537 - val_accuracy: 0.7931\n",
      "Epoch 84/100\n",
      "4/4 [==============================] - 2s 417ms/step - loss: 0.0136 - accuracy: 1.0000 - val_loss: 0.8869 - val_accuracy: 0.7931\n",
      "Epoch 85/100\n",
      "4/4 [==============================] - 2s 480ms/step - loss: 0.0090 - accuracy: 1.0000 - val_loss: 0.9187 - val_accuracy: 0.7931\n",
      "Epoch 86/100\n",
      "4/4 [==============================] - 2s 507ms/step - loss: 0.0092 - accuracy: 1.0000 - val_loss: 0.9558 - val_accuracy: 0.7931\n",
      "Epoch 87/100\n",
      "4/4 [==============================] - 2s 418ms/step - loss: 0.0146 - accuracy: 0.9911 - val_loss: 1.0304 - val_accuracy: 0.7241\n",
      "Epoch 88/100\n",
      "4/4 [==============================] - 2s 423ms/step - loss: 0.0083 - accuracy: 1.0000 - val_loss: 1.0340 - val_accuracy: 0.7586\n",
      "Epoch 89/100\n",
      "4/4 [==============================] - 2s 422ms/step - loss: 0.0033 - accuracy: 1.0000 - val_loss: 1.0570 - val_accuracy: 0.7931\n",
      "Epoch 90/100\n",
      "4/4 [==============================] - 2s 424ms/step - loss: 0.0086 - accuracy: 1.0000 - val_loss: 1.0524 - val_accuracy: 0.7931\n",
      "Epoch 91/100\n",
      "4/4 [==============================] - 2s 422ms/step - loss: 0.0076 - accuracy: 1.0000 - val_loss: 1.0815 - val_accuracy: 0.7586\n",
      "Epoch 92/100\n",
      "4/4 [==============================] - 2s 419ms/step - loss: 0.0013 - accuracy: 1.0000 - val_loss: 1.1048 - val_accuracy: 0.7586\n",
      "Epoch 93/100\n",
      "4/4 [==============================] - 2s 429ms/step - loss: 0.0020 - accuracy: 1.0000 - val_loss: 1.1196 - val_accuracy: 0.7931\n",
      "Epoch 94/100\n",
      "4/4 [==============================] - 2s 425ms/step - loss: 0.0112 - accuracy: 0.9911 - val_loss: 1.1179 - val_accuracy: 0.8276\n",
      "Epoch 95/100\n",
      "4/4 [==============================] - 2s 423ms/step - loss: 0.0063 - accuracy: 1.0000 - val_loss: 1.1878 - val_accuracy: 0.8276\n",
      "Epoch 96/100\n",
      "4/4 [==============================] - 2s 421ms/step - loss: 0.0111 - accuracy: 1.0000 - val_loss: 1.2314 - val_accuracy: 0.7931\n",
      "Epoch 97/100\n",
      "4/4 [==============================] - 2s 421ms/step - loss: 0.0032 - accuracy: 1.0000 - val_loss: 1.2972 - val_accuracy: 0.7241\n",
      "Epoch 98/100\n",
      "4/4 [==============================] - 2s 427ms/step - loss: 0.0036 - accuracy: 1.0000 - val_loss: 1.2509 - val_accuracy: 0.7586\n",
      "Epoch 99/100\n",
      "4/4 [==============================] - 2s 419ms/step - loss: 0.0012 - accuracy: 1.0000 - val_loss: 1.2099 - val_accuracy: 0.7586\n",
      "Epoch 100/100\n",
      "4/4 [==============================] - 2s 420ms/step - loss: 0.0038 - accuracy: 1.0000 - val_loss: 1.2021 - val_accuracy: 0.7586\n"
     ]
    }
   ],
   "source": [
    "log_dir = \"logs/fit/\" + datetime.datetime.now().strftime(\"%Y%m%d-%H%M%S\")\n",
    "tensorboard_callback = tf.keras.callbacks.TensorBoard(log_dir=log_dir, histogram_freq=1)\n",
    "history = model.fit(x_train, y_train, batch_size= 32, verbose = 'auto', epochs = 100, validation_data = (x_test, y_test), shuffle = False, callbacks=[tensorboard_callback])\n"
   ]
  },
  {
   "cell_type": "code",
   "execution_count": 12,
   "metadata": {},
   "outputs": [],
   "source": [
    "model.save('trialmodel2_100epochs.h5')"
   ]
  },
  {
   "cell_type": "code",
   "execution_count": 13,
   "metadata": {},
   "outputs": [
    {
     "data": {
      "image/png": "[encoded data removed]",
      "text/plain": [
       "<Figure size 432x288 with 1 Axes>"
      ]
     },
     "metadata": {
      "needs_background": "light"
     },
     "output_type": "display_data"
    }
   ],
   "source": [
    "#plot the training and validation accuracy and loss at each epoch\n",
    "loss = history.history['loss']\n",
    "val_loss = history.history['val_loss']\n",
    "epochs = range(1, len(loss) + 1)\n",
    "plt.plot(epochs, loss, 'y', label='Training loss')\n",
    "plt.plot(epochs, val_loss, 'r', label='Validation loss')\n",
    "plt.title('Training and validation loss')\n",
    "plt.xlabel('Epochs')\n",
    "plt.ylabel('Loss')\n",
    "plt.legend()\n",
    "plt.show()"
   ]
  },
  {
   "cell_type": "code",
   "execution_count": 14,
   "metadata": {},
   "outputs": [
    {
     "data": {
      "image/png": "[encoded data removed]",
      "text/plain": [
       "<Figure size 432x288 with 1 Axes>"
      ]
     },
     "metadata": {
      "needs_background": "light"
     },
     "output_type": "display_data"
    }
   ],
   "source": [
    "acc = history.history['accuracy']\n",
    "val_acc = history.history['val_accuracy']\n",
    "plt.plot(epochs, acc, 'y', label='Training acc')\n",
    "plt.plot(epochs, val_acc, 'r', label='Validation acc')\n",
    "plt.title('Training and validation accuracy')\n",
    "plt.xlabel('Epochs')\n",
    "plt.ylabel('Accuracy')\n",
    "plt.legend()\n",
    "plt.show()"
   ]
  },
  {
   "cell_type": "code",
   "execution_count": 15,
   "metadata": {},
   "outputs": [
    {
     "name": "stdout",
     "output_type": "stream",
     "text": [
      "1/1 [==============================] - 0s 481ms/step - loss: 1.2021 - accuracy: 0.7586\n",
      "Accuracy =  75.86206793785095 %\n"
     ]
    }
   ],
   "source": [
    "from keras.models import load_model\n",
    "model1 = load_model('trialmodel1_100epochs.h5')\n",
    "#For 300 epochs\n",
    "_, acc = model.evaluate(x_test, y_test)\n",
    "print(\"Accuracy = \", (acc * 100.0), \"%\")"
   ]
  },
  {
   "cell_type": "code",
   "execution_count": 16,
   "metadata": {},
   "outputs": [
    {
     "name": "stdout",
     "output_type": "stream",
     "text": [
      "[[11  2]\n",
      " [ 6 10]]\n"
     ]
    }
   ],
   "source": [
    "from sklearn.metrics import confusion_matrix\n",
    "mythreshold=0.908\n",
    "y_pred = (model.predict(x_test)>= mythreshold).astype(int)\n",
    "cm=confusion_matrix(y_test, y_pred)  \n",
    "print(cm)"
   ]
  }
 ],
 "metadata": {
  "interpreter": {
   "hash": "db196df78566367d8cc66ee2d63a7f3009100341751c744c80d536d98da7595e"
  },
  "kernelspec": {
   "display_name": "Python 3.7.4 ('base')",
   "language": "python",
   "name": "python3"
  },
  "language_info": {
   "codemirror_mode": {
    "name": "ipython",
    "version": 3
   },
   "file_extension": ".py",
   "mimetype": "text/x-python",
   "name": "python",
   "nbconvert_exporter": "python",
   "pygments_lexer": "ipython3",
   "version": "3.7.4"
  },
  "orig_nbformat": 4
 },
 "nbformat": 4,
 "nbformat_minor": 2
}
