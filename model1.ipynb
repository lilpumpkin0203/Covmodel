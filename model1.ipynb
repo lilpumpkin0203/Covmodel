{
 "cells": [
  {
   "cell_type": "code",
   "execution_count": 1,
   "metadata": {},
   "outputs": [],
   "source": [
    "import numpy as np\n",
    "import skimage as ski\n",
    "from skimage import io\n",
    "import matplotlib.pyplot as plt\n",
    "import matplotlib.image as mpltimg\n",
    "import os\n",
    "import cv2\n",
    "from PIL import Image\n",
    "import datetime"
   ]
  },
  {
   "cell_type": "code",
   "execution_count": 2,
   "metadata": {},
   "outputs": [],
   "source": [
    "import tensorflow as tf\n",
    "from tensorflow import keras\n",
    "from keras.models import Sequential\n",
    "from keras.preprocessing.image import ImageDataGenerator\n",
    "from keras.layers import Conv2D, MaxPooling2D, Activation, Flatten, BatchNormalization, Dropout, Dense\n",
    "from keras.utils import conv_utils "
   ]
  },
  {
   "cell_type": "code",
   "execution_count": 3,
   "metadata": {},
   "outputs": [],
   "source": [
    "dataset = []\n",
    "labels = []\n",
    "# importing the dataset first for train/test \n",
    "# labels are binary (1, 0)\n",
    "# 1 stands for infected\n",
    "# 0 stands for control"
   ]
  },
  {
   "cell_type": "code",
   "execution_count": 4,
   "metadata": {},
   "outputs": [],
   "source": [
    "inf_imgs=os.listdir ('C:\\\\Users\\\\MonPc\\\\Desktop\\\\version 2.0\\\\infected')\n",
    "for i, image_name in enumerate(inf_imgs):\n",
    "    img = cv2.imread('C:\\\\Users\\\\MonPc\\\\Desktop\\\\version 2.0\\\\infected\\\\' +  image_name)\n",
    "    img = Image.fromarray(img, mode='RGB')\n",
    "    img = img.resize((100, 100))\n",
    "    dataset.append(np.array(img))\n",
    "    labels.append(1)"
   ]
  },
  {
   "cell_type": "code",
   "execution_count": 5,
   "metadata": {},
   "outputs": [],
   "source": [
    "cntrl_imgs=os.listdir('C:\\\\Users\\\\MonPc\\\\Desktop\\\\version 2.0\\\\control')\n",
    "for i, image_name in enumerate(cntrl_imgs):\n",
    "    img = cv2.imread('C:\\\\Users\\\\MonPc\\\\Desktop\\\\version 2.0\\\\control\\\\' + image_name)\n",
    "    img = Image.fromarray(img, mode='RGB')\n",
    "    img = img.resize((100, 100))\n",
    "    dataset.append(np.array(img))\n",
    "    labels.append(0)"
   ]
  },
  {
   "cell_type": "code",
   "execution_count": 6,
   "metadata": {},
   "outputs": [],
   "source": [
    "# converting dataset and labels from lists to np.ndarray() for the upcoming work\n",
    "dataset = np.array(dataset)\n",
    "labels = np.array(labels)"
   ]
  },
  {
   "cell_type": "code",
   "execution_count": 7,
   "metadata": {},
   "outputs": [],
   "source": [
    "#splitting the dataset for the training\n",
    "from sklearn.model_selection import train_test_split\n",
    "x_train, x_test, y_train, y_test = train_test_split(dataset, labels, test_size = 0.20, random_state = 0)"
   ]
  },
  {
   "cell_type": "code",
   "execution_count": 8,
   "metadata": {},
   "outputs": [],
   "source": [
    "x_train = tf.keras.utils.normalize(x_train, axis=1)\n",
    "x_test = tf.keras.utils.normalize(x_test, axis=1)"
   ]
  },
  {
   "cell_type": "code",
   "execution_count": 9,
   "metadata": {},
   "outputs": [],
   "source": [
    "#creatin za model\n",
    "model = Sequential()\n",
    "\n",
    "model.add(Conv2D(32, (3, 3), input_shape=(100, 100, 3), activation='relu'))\n",
    "model.add(MaxPooling2D(pool_size=(2, 2)))\n",
    "model.add(BatchNormalization())\n",
    "\n",
    "model.add(Conv2D(64, (3, 3), kernel_initializer='he_uniform', activation='relu'))\n",
    "model.add(MaxPooling2D(pool_size=(2, 2)))\n",
    "\n",
    "model.add(Conv2D(128, (3, 3), kernel_initializer='he_uniform', activation='relu'))\n",
    "model.add(MaxPooling2D(pool_size=(2, 2)))\n",
    "# model.add(BatchNormalization())\n",
    "\n",
    "model.add(Flatten())\n",
    "model.add(Dense(64))\n",
    "model.add(Activation('relu'))\n",
    "model.add(Dropout(0.2))\n",
    "\n",
    "model.add(Dense(1))\n",
    "\n",
    "model.add(Activation('sigmoid')) "
   ]
  },
  {
   "cell_type": "code",
   "execution_count": 10,
   "metadata": {},
   "outputs": [
    {
     "name": "stdout",
     "output_type": "stream",
     "text": [
      "Model: \"sequential\"\n",
      "_________________________________________________________________\n",
      "Layer (type)                 Output Shape              Param #   \n",
      "=================================================================\n",
      "conv2d (Conv2D)              (None, 98, 98, 32)        896       \n",
      "_________________________________________________________________\n",
      "max_pooling2d (MaxPooling2D) (None, 49, 49, 32)        0         \n",
      "_________________________________________________________________\n",
      "batch_normalization (BatchNo (None, 49, 49, 32)        128       \n",
      "_________________________________________________________________\n",
      "conv2d_1 (Conv2D)            (None, 47, 47, 64)        18496     \n",
      "_________________________________________________________________\n",
      "max_pooling2d_1 (MaxPooling2 (None, 23, 23, 64)        0         \n",
      "_________________________________________________________________\n",
      "conv2d_2 (Conv2D)            (None, 21, 21, 128)       73856     \n",
      "_________________________________________________________________\n",
      "max_pooling2d_2 (MaxPooling2 (None, 10, 10, 128)       0         \n",
      "_________________________________________________________________\n",
      "flatten (Flatten)            (None, 12800)             0         \n",
      "_________________________________________________________________\n",
      "dense (Dense)                (None, 64)                819264    \n",
      "_________________________________________________________________\n",
      "activation (Activation)      (None, 64)                0         \n",
      "_________________________________________________________________\n",
      "dropout (Dropout)            (None, 64)                0         \n",
      "_________________________________________________________________\n",
      "dense_1 (Dense)              (None, 1)                 65        \n",
      "_________________________________________________________________\n",
      "activation_1 (Activation)    (None, 1)                 0         \n",
      "=================================================================\n",
      "Total params: 912,705\n",
      "Trainable params: 912,641\n",
      "Non-trainable params: 64\n",
      "_________________________________________________________________\n",
      "None\n"
     ]
    }
   ],
   "source": [
    "#we are performing a binary classification\n",
    "model.compile(loss='binary_crossentropy', optimizer='adam', metrics=['accuracy'])\n",
    "print(model.summary())"
   ]
  },
  {
   "cell_type": "code",
   "execution_count": 11,
   "metadata": {},
   "outputs": [
    {
     "name": "stdout",
     "output_type": "stream",
     "text": [
      "Epoch 1/100\n",
      "4/4 [==============================] - 7s 1s/step - loss: 1.6947 - accuracy: 0.4554 - val_loss: 0.6861 - val_accuracy: 0.5517\n",
      "Epoch 2/100\n",
      "4/4 [==============================] - 2s 549ms/step - loss: 0.7750 - accuracy: 0.5625 - val_loss: 0.6954 - val_accuracy: 0.4483\n",
      "Epoch 3/100\n",
      "4/4 [==============================] - 2s 545ms/step - loss: 0.6959 - accuracy: 0.5446 - val_loss: 0.6948 - val_accuracy: 0.4483\n",
      "Epoch 4/100\n",
      "4/4 [==============================] - 2s 530ms/step - loss: 0.6720 - accuracy: 0.6071 - val_loss: 0.6933 - val_accuracy: 0.4483\n",
      "Epoch 5/100\n",
      "4/4 [==============================] - 2s 523ms/step - loss: 0.6520 - accuracy: 0.7946 - val_loss: 0.6930 - val_accuracy: 0.4483\n",
      "Epoch 6/100\n",
      "4/4 [==============================] - 2s 552ms/step - loss: 0.6139 - accuracy: 0.8304 - val_loss: 0.6906 - val_accuracy: 0.6552\n",
      "Epoch 7/100\n",
      "4/4 [==============================] - 2s 555ms/step - loss: 0.5407 - accuracy: 0.8125 - val_loss: 0.6873 - val_accuracy: 0.5517\n",
      "Epoch 8/100\n",
      "4/4 [==============================] - 2s 491ms/step - loss: 0.4690 - accuracy: 0.8036 - val_loss: 0.6844 - val_accuracy: 0.5862\n",
      "Epoch 9/100\n",
      "4/4 [==============================] - 2s 568ms/step - loss: 0.3870 - accuracy: 0.8304 - val_loss: 0.6855 - val_accuracy: 0.7586\n",
      "Epoch 10/100\n",
      "4/4 [==============================] - 2s 479ms/step - loss: 0.3061 - accuracy: 0.8929 - val_loss: 0.6950 - val_accuracy: 0.4483\n",
      "Epoch 11/100\n",
      "4/4 [==============================] - 2s 486ms/step - loss: 0.2624 - accuracy: 0.8929 - val_loss: 0.6996 - val_accuracy: 0.4483\n",
      "Epoch 12/100\n",
      "4/4 [==============================] - 2s 470ms/step - loss: 0.2159 - accuracy: 0.9375 - val_loss: 0.7005 - val_accuracy: 0.4483\n",
      "Epoch 13/100\n",
      "4/4 [==============================] - 2s 481ms/step - loss: 0.1466 - accuracy: 0.9643 - val_loss: 0.7089 - val_accuracy: 0.4483\n",
      "Epoch 14/100\n",
      "4/4 [==============================] - 2s 473ms/step - loss: 0.1109 - accuracy: 0.9821 - val_loss: 0.7237 - val_accuracy: 0.4483\n",
      "Epoch 15/100\n",
      "4/4 [==============================] - 2s 464ms/step - loss: 0.0664 - accuracy: 1.0000 - val_loss: 0.7148 - val_accuracy: 0.4483\n",
      "Epoch 16/100\n",
      "4/4 [==============================] - 2s 463ms/step - loss: 0.0538 - accuracy: 0.9911 - val_loss: 0.7506 - val_accuracy: 0.4483\n",
      "Epoch 17/100\n",
      "4/4 [==============================] - 2s 463ms/step - loss: 0.0214 - accuracy: 1.0000 - val_loss: 0.7686 - val_accuracy: 0.4483\n",
      "Epoch 18/100\n",
      "4/4 [==============================] - 2s 452ms/step - loss: 0.0191 - accuracy: 1.0000 - val_loss: 0.8075 - val_accuracy: 0.4483\n",
      "Epoch 19/100\n",
      "4/4 [==============================] - 2s 452ms/step - loss: 0.0120 - accuracy: 1.0000 - val_loss: 0.7927 - val_accuracy: 0.4483\n",
      "Epoch 20/100\n",
      "4/4 [==============================] - 2s 480ms/step - loss: 0.0191 - accuracy: 0.9911 - val_loss: 0.7957 - val_accuracy: 0.4483\n",
      "Epoch 21/100\n",
      "4/4 [==============================] - 2s 579ms/step - loss: 0.0066 - accuracy: 1.0000 - val_loss: 0.7653 - val_accuracy: 0.4483\n",
      "Epoch 22/100\n",
      "4/4 [==============================] - 2s 493ms/step - loss: 0.0076 - accuracy: 1.0000 - val_loss: 0.7795 - val_accuracy: 0.4483\n",
      "Epoch 23/100\n",
      "4/4 [==============================] - 2s 449ms/step - loss: 0.0060 - accuracy: 1.0000 - val_loss: 0.7996 - val_accuracy: 0.4483\n",
      "Epoch 24/100\n",
      "4/4 [==============================] - 2s 450ms/step - loss: 0.0032 - accuracy: 1.0000 - val_loss: 0.8100 - val_accuracy: 0.4483\n",
      "Epoch 25/100\n",
      "4/4 [==============================] - 2s 452ms/step - loss: 0.0040 - accuracy: 1.0000 - val_loss: 0.8571 - val_accuracy: 0.4483\n",
      "Epoch 26/100\n",
      "4/4 [==============================] - 2s 451ms/step - loss: 0.0052 - accuracy: 1.0000 - val_loss: 0.8378 - val_accuracy: 0.4483\n",
      "Epoch 27/100\n",
      "4/4 [==============================] - 2s 450ms/step - loss: 0.0027 - accuracy: 1.0000 - val_loss: 0.8443 - val_accuracy: 0.4483\n",
      "Epoch 28/100\n",
      "4/4 [==============================] - 2s 451ms/step - loss: 0.0026 - accuracy: 1.0000 - val_loss: 0.8702 - val_accuracy: 0.4483\n",
      "Epoch 29/100\n",
      "4/4 [==============================] - 2s 463ms/step - loss: 0.0014 - accuracy: 1.0000 - val_loss: 0.8899 - val_accuracy: 0.4483\n",
      "Epoch 30/100\n",
      "4/4 [==============================] - 2s 474ms/step - loss: 0.0017 - accuracy: 1.0000 - val_loss: 0.8828 - val_accuracy: 0.4483\n",
      "Epoch 31/100\n",
      "4/4 [==============================] - 2s 474ms/step - loss: 0.0014 - accuracy: 1.0000 - val_loss: 0.8785 - val_accuracy: 0.4483\n",
      "Epoch 32/100\n",
      "4/4 [==============================] - 2s 473ms/step - loss: 0.0017 - accuracy: 1.0000 - val_loss: 0.8761 - val_accuracy: 0.4483\n",
      "Epoch 33/100\n",
      "4/4 [==============================] - 2s 474ms/step - loss: 0.0016 - accuracy: 1.0000 - val_loss: 0.8734 - val_accuracy: 0.4483\n",
      "Epoch 34/100\n",
      "4/4 [==============================] - 2s 476ms/step - loss: 0.0013 - accuracy: 1.0000 - val_loss: 0.8907 - val_accuracy: 0.4483\n",
      "Epoch 35/100\n",
      "4/4 [==============================] - 2s 485ms/step - loss: 0.0022 - accuracy: 1.0000 - val_loss: 0.9068 - val_accuracy: 0.4483\n",
      "Epoch 36/100\n",
      "4/4 [==============================] - 2s 473ms/step - loss: 0.0011 - accuracy: 1.0000 - val_loss: 0.9180 - val_accuracy: 0.4483\n",
      "Epoch 37/100\n",
      "4/4 [==============================] - 2s 483ms/step - loss: 9.7519e-04 - accuracy: 1.0000 - val_loss: 0.9140 - val_accuracy: 0.4483\n",
      "Epoch 38/100\n",
      "4/4 [==============================] - 2s 509ms/step - loss: 0.0013 - accuracy: 1.0000 - val_loss: 0.9063 - val_accuracy: 0.4483\n",
      "Epoch 39/100\n",
      "4/4 [==============================] - 2s 540ms/step - loss: 6.6724e-04 - accuracy: 1.0000 - val_loss: 0.8949 - val_accuracy: 0.4483\n",
      "Epoch 40/100\n",
      "4/4 [==============================] - 2s 502ms/step - loss: 0.0012 - accuracy: 1.0000 - val_loss: 0.8988 - val_accuracy: 0.4483\n",
      "Epoch 41/100\n",
      "4/4 [==============================] - 2s 491ms/step - loss: 0.0014 - accuracy: 1.0000 - val_loss: 0.9389 - val_accuracy: 0.4483\n",
      "Epoch 42/100\n",
      "4/4 [==============================] - 2s 492ms/step - loss: 8.6563e-04 - accuracy: 1.0000 - val_loss: 0.9541 - val_accuracy: 0.4483\n",
      "Epoch 43/100\n",
      "4/4 [==============================] - 2s 470ms/step - loss: 0.0013 - accuracy: 1.0000 - val_loss: 0.9323 - val_accuracy: 0.4483\n",
      "Epoch 44/100\n",
      "4/4 [==============================] - 2s 471ms/step - loss: 4.5565e-04 - accuracy: 1.0000 - val_loss: 0.9205 - val_accuracy: 0.4483\n",
      "Epoch 45/100\n",
      "4/4 [==============================] - 2s 480ms/step - loss: 0.0010 - accuracy: 1.0000 - val_loss: 0.9107 - val_accuracy: 0.4483\n",
      "Epoch 46/100\n",
      "4/4 [==============================] - 2s 467ms/step - loss: 5.8426e-04 - accuracy: 1.0000 - val_loss: 0.9133 - val_accuracy: 0.4483\n",
      "Epoch 47/100\n",
      "4/4 [==============================] - 2s 479ms/step - loss: 0.0011 - accuracy: 1.0000 - val_loss: 0.9578 - val_accuracy: 0.4483\n",
      "Epoch 48/100\n",
      "4/4 [==============================] - 2s 481ms/step - loss: 5.4711e-04 - accuracy: 1.0000 - val_loss: 0.9799 - val_accuracy: 0.4483\n",
      "Epoch 49/100\n",
      "4/4 [==============================] - 2s 478ms/step - loss: 7.1633e-04 - accuracy: 1.0000 - val_loss: 0.9887 - val_accuracy: 0.4483\n",
      "Epoch 50/100\n",
      "4/4 [==============================] - 2s 473ms/step - loss: 5.0492e-04 - accuracy: 1.0000 - val_loss: 0.9685 - val_accuracy: 0.4483\n",
      "Epoch 51/100\n",
      "4/4 [==============================] - 2s 472ms/step - loss: 6.5744e-04 - accuracy: 1.0000 - val_loss: 0.9417 - val_accuracy: 0.4483\n",
      "Epoch 52/100\n",
      "4/4 [==============================] - 2s 490ms/step - loss: 3.7247e-04 - accuracy: 1.0000 - val_loss: 0.9299 - val_accuracy: 0.4483\n",
      "Epoch 53/100\n",
      "4/4 [==============================] - 2s 476ms/step - loss: 3.4075e-04 - accuracy: 1.0000 - val_loss: 0.9311 - val_accuracy: 0.4483\n",
      "Epoch 54/100\n",
      "4/4 [==============================] - 2s 476ms/step - loss: 9.4931e-04 - accuracy: 1.0000 - val_loss: 0.9445 - val_accuracy: 0.4483\n",
      "Epoch 55/100\n",
      "4/4 [==============================] - 2s 483ms/step - loss: 5.1010e-04 - accuracy: 1.0000 - val_loss: 0.9639 - val_accuracy: 0.4483\n",
      "Epoch 56/100\n",
      "4/4 [==============================] - 2s 480ms/step - loss: 0.0010 - accuracy: 1.0000 - val_loss: 0.8923 - val_accuracy: 0.4483\n",
      "Epoch 57/100\n",
      "4/4 [==============================] - 2s 475ms/step - loss: 8.8183e-04 - accuracy: 1.0000 - val_loss: 0.9213 - val_accuracy: 0.4483\n",
      "Epoch 58/100\n",
      "4/4 [==============================] - 2s 572ms/step - loss: 8.4969e-04 - accuracy: 1.0000 - val_loss: 0.9259 - val_accuracy: 0.4483\n",
      "Epoch 59/100\n",
      "4/4 [==============================] - 2s 478ms/step - loss: 4.1547e-04 - accuracy: 1.0000 - val_loss: 0.9356 - val_accuracy: 0.4483\n",
      "Epoch 60/100\n",
      "4/4 [==============================] - 2s 479ms/step - loss: 0.0013 - accuracy: 1.0000 - val_loss: 0.9133 - val_accuracy: 0.4483\n",
      "Epoch 61/100\n",
      "4/4 [==============================] - 2s 470ms/step - loss: 6.2593e-04 - accuracy: 1.0000 - val_loss: 0.9332 - val_accuracy: 0.4483\n",
      "Epoch 62/100\n",
      "4/4 [==============================] - 2s 476ms/step - loss: 6.3772e-04 - accuracy: 1.0000 - val_loss: 0.9555 - val_accuracy: 0.4483\n",
      "Epoch 63/100\n",
      "4/4 [==============================] - 2s 476ms/step - loss: 5.1639e-04 - accuracy: 1.0000 - val_loss: 0.9667 - val_accuracy: 0.4828\n",
      "Epoch 64/100\n",
      "4/4 [==============================] - 2s 485ms/step - loss: 6.8003e-04 - accuracy: 1.0000 - val_loss: 0.9484 - val_accuracy: 0.4828\n",
      "Epoch 65/100\n",
      "4/4 [==============================] - 2s 479ms/step - loss: 4.3766e-04 - accuracy: 1.0000 - val_loss: 0.9513 - val_accuracy: 0.4828\n",
      "Epoch 66/100\n",
      "4/4 [==============================] - 2s 476ms/step - loss: 3.6537e-04 - accuracy: 1.0000 - val_loss: 0.9595 - val_accuracy: 0.4828\n",
      "Epoch 67/100\n",
      "4/4 [==============================] - 2s 479ms/step - loss: 4.4040e-04 - accuracy: 1.0000 - val_loss: 0.9674 - val_accuracy: 0.4828\n",
      "Epoch 68/100\n",
      "4/4 [==============================] - 2s 468ms/step - loss: 2.7677e-04 - accuracy: 1.0000 - val_loss: 0.9709 - val_accuracy: 0.4828\n",
      "Epoch 69/100\n",
      "4/4 [==============================] - 2s 481ms/step - loss: 6.2939e-04 - accuracy: 1.0000 - val_loss: 0.9672 - val_accuracy: 0.4828\n",
      "Epoch 70/100\n",
      "4/4 [==============================] - 4s 923ms/step - loss: 6.8685e-04 - accuracy: 1.0000 - val_loss: 0.9277 - val_accuracy: 0.4828\n",
      "Epoch 71/100\n",
      "4/4 [==============================] - 4s 910ms/step - loss: 3.6965e-04 - accuracy: 1.0000 - val_loss: 0.8807 - val_accuracy: 0.4828\n",
      "Epoch 72/100\n",
      "4/4 [==============================] - 2s 461ms/step - loss: 3.0311e-04 - accuracy: 1.0000 - val_loss: 0.8666 - val_accuracy: 0.5172\n",
      "Epoch 73/100\n",
      "4/4 [==============================] - 2s 451ms/step - loss: 4.2156e-04 - accuracy: 1.0000 - val_loss: 0.8855 - val_accuracy: 0.5172\n",
      "Epoch 74/100\n",
      "4/4 [==============================] - 2s 469ms/step - loss: 2.9417e-04 - accuracy: 1.0000 - val_loss: 0.8860 - val_accuracy: 0.5172\n",
      "Epoch 75/100\n",
      "4/4 [==============================] - 2s 460ms/step - loss: 1.7237e-04 - accuracy: 1.0000 - val_loss: 0.8851 - val_accuracy: 0.5172\n",
      "Epoch 76/100\n",
      "4/4 [==============================] - 2s 464ms/step - loss: 4.5964e-04 - accuracy: 1.0000 - val_loss: 0.8895 - val_accuracy: 0.5172\n",
      "Epoch 77/100\n",
      "4/4 [==============================] - 2s 456ms/step - loss: 1.4988e-04 - accuracy: 1.0000 - val_loss: 0.9017 - val_accuracy: 0.5172\n",
      "Epoch 78/100\n",
      "4/4 [==============================] - 2s 445ms/step - loss: 2.8252e-04 - accuracy: 1.0000 - val_loss: 0.9105 - val_accuracy: 0.5172\n",
      "Epoch 79/100\n",
      "4/4 [==============================] - 2s 460ms/step - loss: 1.2657e-04 - accuracy: 1.0000 - val_loss: 0.9219 - val_accuracy: 0.5172\n",
      "Epoch 80/100\n",
      "4/4 [==============================] - 2s 450ms/step - loss: 5.2355e-04 - accuracy: 1.0000 - val_loss: 0.8894 - val_accuracy: 0.5172\n",
      "Epoch 81/100\n",
      "4/4 [==============================] - 2s 469ms/step - loss: 9.7175e-05 - accuracy: 1.0000 - val_loss: 0.8494 - val_accuracy: 0.5517\n",
      "Epoch 82/100\n",
      "4/4 [==============================] - 2s 460ms/step - loss: 2.1055e-04 - accuracy: 1.0000 - val_loss: 0.8443 - val_accuracy: 0.5517\n",
      "Epoch 83/100\n",
      "4/4 [==============================] - 2s 457ms/step - loss: 2.3122e-04 - accuracy: 1.0000 - val_loss: 0.8833 - val_accuracy: 0.5862\n",
      "Epoch 84/100\n",
      "4/4 [==============================] - 2s 446ms/step - loss: 2.4498e-04 - accuracy: 1.0000 - val_loss: 0.9204 - val_accuracy: 0.5862\n",
      "Epoch 85/100\n",
      "4/4 [==============================] - 2s 450ms/step - loss: 1.6594e-04 - accuracy: 1.0000 - val_loss: 0.9409 - val_accuracy: 0.5517\n",
      "Epoch 86/100\n",
      "4/4 [==============================] - 2s 451ms/step - loss: 1.5279e-04 - accuracy: 1.0000 - val_loss: 0.9297 - val_accuracy: 0.5862\n",
      "Epoch 87/100\n",
      "4/4 [==============================] - 2s 453ms/step - loss: 1.2107e-04 - accuracy: 1.0000 - val_loss: 0.9233 - val_accuracy: 0.5862\n",
      "Epoch 88/100\n",
      "4/4 [==============================] - 2s 474ms/step - loss: 3.0520e-04 - accuracy: 1.0000 - val_loss: 0.8511 - val_accuracy: 0.5862\n",
      "Epoch 89/100\n",
      "4/4 [==============================] - 2s 476ms/step - loss: 1.4332e-04 - accuracy: 1.0000 - val_loss: 0.7987 - val_accuracy: 0.6897\n",
      "Epoch 90/100\n",
      "4/4 [==============================] - 2s 489ms/step - loss: 1.5252e-04 - accuracy: 1.0000 - val_loss: 0.7776 - val_accuracy: 0.6897\n",
      "Epoch 91/100\n",
      "4/4 [==============================] - 2s 573ms/step - loss: 0.0010 - accuracy: 1.0000 - val_loss: 0.8772 - val_accuracy: 0.6207\n",
      "Epoch 92/100\n",
      "4/4 [==============================] - 2s 482ms/step - loss: 7.3330e-05 - accuracy: 1.0000 - val_loss: 1.0511 - val_accuracy: 0.5517\n",
      "Epoch 93/100\n",
      "4/4 [==============================] - 2s 467ms/step - loss: 1.8067e-04 - accuracy: 1.0000 - val_loss: 1.1240 - val_accuracy: 0.5172\n",
      "Epoch 94/100\n",
      "4/4 [==============================] - 2s 475ms/step - loss: 4.0647e-04 - accuracy: 1.0000 - val_loss: 1.0555 - val_accuracy: 0.5862\n",
      "Epoch 95/100\n",
      "4/4 [==============================] - 2s 477ms/step - loss: 2.7427e-04 - accuracy: 1.0000 - val_loss: 0.8824 - val_accuracy: 0.6552\n",
      "Epoch 96/100\n",
      "4/4 [==============================] - 2s 476ms/step - loss: 1.2571e-04 - accuracy: 1.0000 - val_loss: 0.7748 - val_accuracy: 0.6897\n",
      "Epoch 97/100\n",
      "4/4 [==============================] - 2s 484ms/step - loss: 1.8149e-04 - accuracy: 1.0000 - val_loss: 0.7362 - val_accuracy: 0.6897\n",
      "Epoch 98/100\n",
      "4/4 [==============================] - 2s 472ms/step - loss: 2.9469e-04 - accuracy: 1.0000 - val_loss: 0.7675 - val_accuracy: 0.6897\n",
      "Epoch 99/100\n",
      "4/4 [==============================] - 2s 475ms/step - loss: 2.5459e-04 - accuracy: 1.0000 - val_loss: 0.8605 - val_accuracy: 0.6897\n",
      "Epoch 100/100\n",
      "4/4 [==============================] - 2s 480ms/step - loss: 1.8137e-04 - accuracy: 1.0000 - val_loss: 0.9272 - val_accuracy: 0.6897\n"
     ]
    }
   ],
   "source": [
    "log_dir = \"logs/fit/\" + datetime.datetime.now().strftime(\"%Y%m%d-%H%M%S\")\n",
    "tensorboard_callback = tf.keras.callbacks.TensorBoard(log_dir=log_dir, histogram_freq=1)\n",
    "history = model.fit(x_train, y_train, batch_size= 32, verbose = 'auto', epochs = 100, validation_data = (x_test, y_test), shuffle = False, callbacks=[tensorboard_callback])"
   ]
  },
  {
   "cell_type": "code",
   "execution_count": 12,
   "metadata": {},
   "outputs": [],
   "source": [
    "model.save('trialmodel2_100epochs.h5')"
   ]
  },
  {
   "cell_type": "code",
   "execution_count": 13,
   "metadata": {},
   "outputs": [
    {
     "data": {
      "image/png": "[encoded data removed]",
      "text/plain": [
       "<Figure size 432x288 with 1 Axes>"
      ]
     },
     "metadata": {
      "needs_background": "light"
     },
     "output_type": "display_data"
    }
   ],
   "source": [
    "#plot the training and validation accuracy and loss at each epoch\n",
    "loss = history.history['loss']\n",
    "val_loss = history.history['val_loss']\n",
    "epochs = range(1, len(loss) + 1)\n",
    "plt.plot(epochs, loss, 'y', label='Training loss')\n",
    "plt.plot(epochs, val_loss, 'r', label='Validation loss')\n",
    "plt.title('Training and validation loss')\n",
    "plt.xlabel('Epochs')\n",
    "plt.ylabel('Loss')\n",
    "plt.legend()\n",
    "plt.show()"
   ]
  },
  {
   "cell_type": "code",
   "execution_count": 14,
   "metadata": {},
   "outputs": [
    {
     "data": {
      "image/png": "[encoded data removed]",
      "text/plain": [
       "<Figure size 432x288 with 1 Axes>"
      ]
     },
     "metadata": {
      "needs_background": "light"
     },
     "output_type": "display_data"
    }
   ],
   "source": [
    "acc = history.history['accuracy']\n",
    "val_acc = history.history['val_accuracy']\n",
    "plt.plot(epochs, acc, 'y', label='Training acc')\n",
    "plt.plot(epochs, val_acc, 'r', label='Validation acc')\n",
    "plt.title('Training and validation accuracy')\n",
    "plt.xlabel('Epochs')\n",
    "plt.ylabel('Accuracy')\n",
    "plt.legend()\n",
    "plt.show()"
   ]
  },
  {
   "cell_type": "code",
   "execution_count": 15,
   "metadata": {},
   "outputs": [
    {
     "name": "stdout",
     "output_type": "stream",
     "text": [
      "1/1 [==============================] - 1s 635ms/step - loss: 0.9272 - accuracy: 0.6897\n",
      "Accuracy =  68.96551847457886 %\n"
     ]
    }
   ],
   "source": [
    "from keras.models import load_model\n",
    "model1 = load_model('trialmodel1_100epochs.h5')\n",
    "#For 300 epochs\n",
    "_, acc = model.evaluate(x_test, y_test)\n",
    "print(\"Accuracy = \", (acc * 100.0), \"%\")"
   ]
  },
  {
   "cell_type": "code",
   "execution_count": 16,
   "metadata": {},
   "outputs": [
    {
     "name": "stdout",
     "output_type": "stream",
     "text": [
      "[[13  0]\n",
      " [15  1]]\n"
     ]
    }
   ],
   "source": [
    "from sklearn.metrics import confusion_matrix\n",
    "mythreshold=0.908\n",
    "y_pred = (model.predict(x_test)>= mythreshold).astype(int)\n",
    "cm=confusion_matrix(y_test, y_pred)  \n",
    "print(cm)"
   ]
  }
 ],
 "metadata": {
  "interpreter": {
   "hash": "db196df78566367d8cc66ee2d63a7f3009100341751c744c80d536d98da7595e"
  },
  "kernelspec": {
   "display_name": "Python 3.7.4 ('base')",
   "language": "python",
   "name": "python3"
  },
  "language_info": {
   "codemirror_mode": {
    "name": "ipython",
    "version": 3
   },
   "file_extension": ".py",
   "mimetype": "text/x-python",
   "name": "python",
   "nbconvert_exporter": "python",
   "pygments_lexer": "ipython3",
   "version": "3.7.4"
  },
  "orig_nbformat": 4
 },
 "nbformat": 4,
 "nbformat_minor": 2
}
