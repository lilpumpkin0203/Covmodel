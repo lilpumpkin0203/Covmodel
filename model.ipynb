{
 "cells": [
  {
   "cell_type": "code",
   "execution_count": 4,
   "metadata": {},
   "outputs": [],
   "source": [
    "import numpy as np\n",
    "import skimage as ski\n",
    "from skimage import io\n",
    "import matplotlib.pyplot as plt\n",
    "import matplotlib.image as mpltimg\n",
    "import os\n",
    "import cv2\n",
    "from PIL import Image\n",
    "import datetime"
   ]
  },
  {
   "cell_type": "code",
   "execution_count": 5,
   "metadata": {},
   "outputs": [],
   "source": [
    "import tensorflow as tf\n",
    "from tensorflow import keras\n",
    "from keras.models import Sequential\n",
    "from keras.preprocessing.image import ImageDataGenerator\n",
    "from keras.layers import Conv2D, MaxPooling2D, Activation, Flatten, BatchNormalization, Dropout, Dense\n",
    "from keras.utils import conv_utils "
   ]
  },
  {
   "cell_type": "code",
   "execution_count": 6,
   "metadata": {},
   "outputs": [],
   "source": [
    "dataset = []\n",
    "labels = []\n",
    "# importing the dataset first for train/test \n",
    "# labels are binary (1, 0)\n",
    "# 1 stands for infected\n",
    "# 0 stands for control"
   ]
  },
  {
   "cell_type": "code",
   "execution_count": 7,
   "metadata": {},
   "outputs": [],
   "source": [
    "inf_imgs=os.listdir ('C:\\\\Users\\\\MonPc\\\\Desktop\\\\version 2.0\\\\infected')\n",
    "for i, image_name in enumerate(inf_imgs):\n",
    "    img = cv2.imread('C:\\\\Users\\\\MonPc\\\\Desktop\\\\version 2.0\\\\infected\\\\' +  image_name)\n",
    "    img = Image.fromarray(img, mode='RGB')\n",
    "    img = img.resize((100, 100))\n",
    "    dataset.append(np.array(img))\n",
    "    labels.append(1)"
   ]
  },
  {
   "cell_type": "code",
   "execution_count": 8,
   "metadata": {},
   "outputs": [],
   "source": [
    "cntrl_imgs=os.listdir('C:\\\\Users\\\\MonPc\\\\Desktop\\\\version 2.0\\\\control')\n",
    "for i, image_name in enumerate(cntrl_imgs):\n",
    "    img = cv2.imread('C:\\\\Users\\\\MonPc\\\\Desktop\\\\version 2.0\\\\control\\\\' + image_name)\n",
    "    img = Image.fromarray(img, mode='RGB')\n",
    "    img = img.resize((100, 100))\n",
    "    dataset.append(np.array(img))\n",
    "    labels.append(0)"
   ]
  },
  {
   "cell_type": "code",
   "execution_count": 9,
   "metadata": {},
   "outputs": [],
   "source": [
    "# converting dataset and labels from lists to np.ndarray() for the upcoming work\n",
    "dataset = np.array(dataset)\n",
    "labels = np.array(labels)"
   ]
  },
  {
   "cell_type": "code",
   "execution_count": 10,
   "metadata": {},
   "outputs": [
    {
     "name": "stderr",
     "output_type": "stream",
     "text": [
      "C:\\Users\\MonPc\\Anaconda3\\lib\\importlib\\_bootstrap.py:219: RuntimeWarning: numpy.ufunc size changed, may indicate binary incompatibility. Expected 192 from C header, got 216 from PyObject\n",
      "  return f(*args, **kwds)\n",
      "C:\\Users\\MonPc\\Anaconda3\\lib\\importlib\\_bootstrap.py:219: RuntimeWarning: numpy.ufunc size changed, may indicate binary incompatibility. Expected 192 from C header, got 216 from PyObject\n",
      "  return f(*args, **kwds)\n",
      "C:\\Users\\MonPc\\Anaconda3\\lib\\importlib\\_bootstrap.py:219: RuntimeWarning: numpy.ufunc size changed, may indicate binary incompatibility. Expected 192 from C header, got 216 from PyObject\n",
      "  return f(*args, **kwds)\n"
     ]
    }
   ],
   "source": [
    "#splitting the dataset for the training\n",
    "from sklearn.model_selection import train_test_split\n",
    "x_train, x_test, y_train, y_test = train_test_split(dataset, labels, test_size = 0.20, random_state = 0)"
   ]
  },
  {
   "cell_type": "code",
   "execution_count": 11,
   "metadata": {},
   "outputs": [],
   "source": [
    "x_train = tf.keras.utils.normalize(x_train, axis=1)\n",
    "x_test = tf.keras.utils.normalize(x_test, axis=1)"
   ]
  },
  {
   "cell_type": "code",
   "execution_count": 12,
   "metadata": {},
   "outputs": [],
   "source": [
    "#creatin za model\n",
    "model = Sequential()\n",
    "\n",
    "model.add(Conv2D(32, (3, 3), input_shape=(100, 100, 3), activation='relu'))\n",
    "model.add(MaxPooling2D(pool_size=(2, 2)))\n",
    "\n",
    "model.add(Conv2D(64, (3, 3), kernel_initializer='he_uniform', activation='relu'))\n",
    "model.add(MaxPooling2D(pool_size=(2, 2)))\n",
    "\n",
    "model.add(Conv2D(128, (3, 3), kernel_initializer='he_uniform', activation='relu'))\n",
    "model.add(MaxPooling2D(pool_size=(2, 2)))\n",
    "# model.add(BatchNormalization())\n",
    "\n",
    "model.add(Flatten())\n",
    "model.add(Dense(64))\n",
    "model.add(Activation('relu'))\n",
    "model.add(Dropout(0.5))\n",
    "\n",
    "model.add(Dense(1))\n",
    "\n",
    "model.add(Activation('sigmoid')) \n"
   ]
  },
  {
   "cell_type": "code",
   "execution_count": 13,
   "metadata": {},
   "outputs": [
    {
     "name": "stdout",
     "output_type": "stream",
     "text": [
      "Model: \"sequential\"\n",
      "_________________________________________________________________\n",
      "Layer (type)                 Output Shape              Param #   \n",
      "=================================================================\n",
      "conv2d (Conv2D)              (None, 98, 98, 32)        896       \n",
      "_________________________________________________________________\n",
      "max_pooling2d (MaxPooling2D) (None, 49, 49, 32)        0         \n",
      "_________________________________________________________________\n",
      "conv2d_1 (Conv2D)            (None, 47, 47, 64)        18496     \n",
      "_________________________________________________________________\n",
      "max_pooling2d_1 (MaxPooling2 (None, 23, 23, 64)        0         \n",
      "_________________________________________________________________\n",
      "conv2d_2 (Conv2D)            (None, 21, 21, 128)       73856     \n",
      "_________________________________________________________________\n",
      "max_pooling2d_2 (MaxPooling2 (None, 10, 10, 128)       0         \n",
      "_________________________________________________________________\n",
      "flatten (Flatten)            (None, 12800)             0         \n",
      "_________________________________________________________________\n",
      "dense (Dense)                (None, 64)                819264    \n",
      "_________________________________________________________________\n",
      "activation (Activation)      (None, 64)                0         \n",
      "_________________________________________________________________\n",
      "dropout (Dropout)            (None, 64)                0         \n",
      "_________________________________________________________________\n",
      "dense_1 (Dense)              (None, 1)                 65        \n",
      "_________________________________________________________________\n",
      "activation_1 (Activation)    (None, 1)                 0         \n",
      "=================================================================\n",
      "Total params: 912,577\n",
      "Trainable params: 912,577\n",
      "Non-trainable params: 0\n",
      "_________________________________________________________________\n",
      "None\n"
     ]
    }
   ],
   "source": [
    "#we are performing a binary classification\n",
    "model.compile(loss='binary_crossentropy', optimizer='adam', metrics=['accuracy'])\n",
    "print(model.summary())"
   ]
  },
  {
   "cell_type": "code",
   "execution_count": 15,
   "metadata": {},
   "outputs": [
    {
     "name": "stdout",
     "output_type": "stream",
     "text": [
      "Epoch 1/100\n",
      "4/4 [==============================] - 6s 1s/step - loss: 0.0151 - accuracy: 1.0000 - val_loss: 1.4963 - val_accuracy: 0.7241\n",
      "Epoch 2/100\n",
      "4/4 [==============================] - 3s 767ms/step - loss: 0.0458 - accuracy: 0.9732 - val_loss: 1.4212 - val_accuracy: 0.7931\n",
      "Epoch 3/100\n",
      "4/4 [==============================] - 3s 731ms/step - loss: 0.0103 - accuracy: 1.0000 - val_loss: 1.3892 - val_accuracy: 0.7931\n",
      "Epoch 4/100\n",
      "4/4 [==============================] - 3s 789ms/step - loss: 0.0229 - accuracy: 0.9911 - val_loss: 1.3753 - val_accuracy: 0.7931\n",
      "Epoch 5/100\n",
      "4/4 [==============================] - 3s 678ms/step - loss: 0.0237 - accuracy: 0.9911 - val_loss: 1.3312 - val_accuracy: 0.7586\n",
      "Epoch 6/100\n",
      "4/4 [==============================] - 3s 694ms/step - loss: 0.0122 - accuracy: 1.0000 - val_loss: 1.2775 - val_accuracy: 0.7931\n",
      "Epoch 7/100\n",
      "4/4 [==============================] - 3s 724ms/step - loss: 0.0149 - accuracy: 0.9911 - val_loss: 1.3138 - val_accuracy: 0.7586\n",
      "Epoch 8/100\n",
      "4/4 [==============================] - 3s 758ms/step - loss: 0.0123 - accuracy: 1.0000 - val_loss: 1.3745 - val_accuracy: 0.7586\n",
      "Epoch 9/100\n",
      "4/4 [==============================] - 2s 567ms/step - loss: 0.0260 - accuracy: 0.9911 - val_loss: 1.4109 - val_accuracy: 0.7586\n",
      "Epoch 10/100\n",
      "4/4 [==============================] - 2s 608ms/step - loss: 0.0182 - accuracy: 0.9821 - val_loss: 1.6291 - val_accuracy: 0.7241\n",
      "Epoch 11/100\n",
      "4/4 [==============================] - 6s 1s/step - loss: 0.0395 - accuracy: 0.9911 - val_loss: 1.4286 - val_accuracy: 0.8276\n",
      "Epoch 12/100\n",
      "4/4 [==============================] - 5s 952ms/step - loss: 0.0220 - accuracy: 0.9911 - val_loss: 1.4822 - val_accuracy: 0.7586\n",
      "Epoch 13/100\n",
      "4/4 [==============================] - 5s 1s/step - loss: 0.0245 - accuracy: 0.9911 - val_loss: 1.6137 - val_accuracy: 0.6552\n",
      "Epoch 14/100\n",
      "4/4 [==============================] - 3s 781ms/step - loss: 0.0310 - accuracy: 1.0000 - val_loss: 1.6400 - val_accuracy: 0.6897\n",
      "Epoch 15/100\n",
      "4/4 [==============================] - 3s 635ms/step - loss: 0.0135 - accuracy: 1.0000 - val_loss: 1.6633 - val_accuracy: 0.6897\n",
      "Epoch 16/100\n",
      "4/4 [==============================] - 3s 691ms/step - loss: 0.0049 - accuracy: 1.0000 - val_loss: 1.7024 - val_accuracy: 0.7241\n",
      "Epoch 17/100\n",
      "4/4 [==============================] - 3s 660ms/step - loss: 0.0163 - accuracy: 0.9911 - val_loss: 1.7255 - val_accuracy: 0.7586\n",
      "Epoch 18/100\n",
      "4/4 [==============================] - 3s 649ms/step - loss: 0.0207 - accuracy: 1.0000 - val_loss: 1.7781 - val_accuracy: 0.7241\n",
      "Epoch 19/100\n",
      "4/4 [==============================] - 3s 619ms/step - loss: 0.0218 - accuracy: 1.0000 - val_loss: 1.7456 - val_accuracy: 0.7586\n",
      "Epoch 20/100\n",
      "4/4 [==============================] - 2s 588ms/step - loss: 0.0184 - accuracy: 0.9911 - val_loss: 1.7954 - val_accuracy: 0.7931\n",
      "Epoch 21/100\n",
      "4/4 [==============================] - 3s 715ms/step - loss: 0.0323 - accuracy: 0.9911 - val_loss: 1.6736 - val_accuracy: 0.7241\n",
      "Epoch 22/100\n",
      "4/4 [==============================] - 3s 655ms/step - loss: 0.0247 - accuracy: 0.9911 - val_loss: 1.6589 - val_accuracy: 0.7931\n",
      "Epoch 23/100\n",
      "4/4 [==============================] - 3s 623ms/step - loss: 0.0181 - accuracy: 0.9911 - val_loss: 1.4824 - val_accuracy: 0.7586\n",
      "Epoch 24/100\n",
      "4/4 [==============================] - 2s 588ms/step - loss: 0.0083 - accuracy: 1.0000 - val_loss: 1.5842 - val_accuracy: 0.7241\n",
      "Epoch 25/100\n",
      "4/4 [==============================] - 2s 588ms/step - loss: 0.0333 - accuracy: 0.9911 - val_loss: 1.4225 - val_accuracy: 0.7586\n",
      "Epoch 26/100\n",
      "4/4 [==============================] - 2s 601ms/step - loss: 0.0305 - accuracy: 1.0000 - val_loss: 1.3108 - val_accuracy: 0.7931\n",
      "Epoch 27/100\n",
      "4/4 [==============================] - 2s 585ms/step - loss: 0.0187 - accuracy: 1.0000 - val_loss: 1.3110 - val_accuracy: 0.7586\n",
      "Epoch 28/100\n",
      "4/4 [==============================] - 2s 599ms/step - loss: 0.0294 - accuracy: 0.9911 - val_loss: 1.3891 - val_accuracy: 0.7586\n",
      "Epoch 29/100\n",
      "4/4 [==============================] - 2s 586ms/step - loss: 0.0330 - accuracy: 0.9821 - val_loss: 1.4697 - val_accuracy: 0.7586\n",
      "Epoch 30/100\n",
      "4/4 [==============================] - 3s 608ms/step - loss: 0.0052 - accuracy: 1.0000 - val_loss: 1.4875 - val_accuracy: 0.7586\n",
      "Epoch 31/100\n",
      "4/4 [==============================] - 2s 596ms/step - loss: 0.0164 - accuracy: 0.9821 - val_loss: 1.5318 - val_accuracy: 0.7586\n",
      "Epoch 32/100\n",
      "4/4 [==============================] - 2s 604ms/step - loss: 0.0066 - accuracy: 1.0000 - val_loss: 1.5320 - val_accuracy: 0.7586\n",
      "Epoch 33/100\n",
      "4/4 [==============================] - 2s 598ms/step - loss: 0.0110 - accuracy: 0.9911 - val_loss: 1.5249 - val_accuracy: 0.7241\n",
      "Epoch 34/100\n",
      "4/4 [==============================] - 3s 648ms/step - loss: 0.0380 - accuracy: 0.9821 - val_loss: 1.6940 - val_accuracy: 0.7586\n",
      "Epoch 35/100\n",
      "4/4 [==============================] - 3s 696ms/step - loss: 0.0204 - accuracy: 0.9911 - val_loss: 1.4567 - val_accuracy: 0.7931\n",
      "Epoch 36/100\n",
      "4/4 [==============================] - 3s 688ms/step - loss: 0.0341 - accuracy: 0.9911 - val_loss: 1.5340 - val_accuracy: 0.7241\n",
      "Epoch 37/100\n",
      "4/4 [==============================] - 2s 606ms/step - loss: 0.0164 - accuracy: 0.9911 - val_loss: 1.6452 - val_accuracy: 0.7241\n",
      "Epoch 38/100\n",
      "4/4 [==============================] - 3s 691ms/step - loss: 0.0120 - accuracy: 1.0000 - val_loss: 1.7438 - val_accuracy: 0.7241\n",
      "Epoch 39/100\n",
      "4/4 [==============================] - 3s 640ms/step - loss: 0.0235 - accuracy: 0.9911 - val_loss: 1.6715 - val_accuracy: 0.7241\n",
      "Epoch 40/100\n",
      "4/4 [==============================] - 3s 688ms/step - loss: 0.0099 - accuracy: 1.0000 - val_loss: 1.6315 - val_accuracy: 0.7586\n",
      "Epoch 41/100\n",
      "4/4 [==============================] - 3s 671ms/step - loss: 0.0223 - accuracy: 0.9911 - val_loss: 1.7284 - val_accuracy: 0.7241\n",
      "Epoch 42/100\n",
      "4/4 [==============================] - 3s 646ms/step - loss: 0.0154 - accuracy: 1.0000 - val_loss: 1.8540 - val_accuracy: 0.7241\n",
      "Epoch 43/100\n",
      "4/4 [==============================] - 3s 697ms/step - loss: 0.0127 - accuracy: 1.0000 - val_loss: 1.7909 - val_accuracy: 0.7241\n",
      "Epoch 44/100\n",
      "4/4 [==============================] - 3s 649ms/step - loss: 0.0149 - accuracy: 1.0000 - val_loss: 1.8692 - val_accuracy: 0.7931\n",
      "Epoch 45/100\n",
      "4/4 [==============================] - 3s 720ms/step - loss: 0.0204 - accuracy: 0.9821 - val_loss: 1.7803 - val_accuracy: 0.7586\n",
      "Epoch 46/100\n",
      "4/4 [==============================] - 3s 728ms/step - loss: 0.0152 - accuracy: 1.0000 - val_loss: 1.8701 - val_accuracy: 0.7241\n",
      "Epoch 47/100\n",
      "4/4 [==============================] - 3s 708ms/step - loss: 0.0101 - accuracy: 1.0000 - val_loss: 1.7684 - val_accuracy: 0.7241\n",
      "Epoch 48/100\n",
      "4/4 [==============================] - 3s 680ms/step - loss: 0.0033 - accuracy: 1.0000 - val_loss: 1.6417 - val_accuracy: 0.7586\n",
      "Epoch 49/100\n",
      "4/4 [==============================] - 3s 785ms/step - loss: 0.0100 - accuracy: 1.0000 - val_loss: 1.6540 - val_accuracy: 0.7586\n",
      "Epoch 50/100\n",
      "4/4 [==============================] - 4s 856ms/step - loss: 0.0333 - accuracy: 1.0000 - val_loss: 1.6493 - val_accuracy: 0.7931\n",
      "Epoch 51/100\n",
      "4/4 [==============================] - 3s 622ms/step - loss: 0.0153 - accuracy: 0.9911 - val_loss: 1.6692 - val_accuracy: 0.7586\n",
      "Epoch 52/100\n",
      "4/4 [==============================] - 3s 694ms/step - loss: 0.0354 - accuracy: 0.9821 - val_loss: 1.6340 - val_accuracy: 0.7586\n",
      "Epoch 53/100\n",
      "4/4 [==============================] - 3s 726ms/step - loss: 0.0141 - accuracy: 1.0000 - val_loss: 1.5444 - val_accuracy: 0.7586\n",
      "Epoch 54/100\n",
      "4/4 [==============================] - 3s 694ms/step - loss: 0.0137 - accuracy: 1.0000 - val_loss: 1.7080 - val_accuracy: 0.7241\n",
      "Epoch 55/100\n",
      "4/4 [==============================] - 4s 855ms/step - loss: 0.0233 - accuracy: 0.9911 - val_loss: 1.7236 - val_accuracy: 0.6897\n",
      "Epoch 56/100\n",
      "4/4 [==============================] - 2s 557ms/step - loss: 0.0246 - accuracy: 1.0000 - val_loss: 1.7183 - val_accuracy: 0.6897\n",
      "Epoch 57/100\n",
      "4/4 [==============================] - 2s 559ms/step - loss: 0.0178 - accuracy: 0.9911 - val_loss: 1.4241 - val_accuracy: 0.8276\n",
      "Epoch 58/100\n",
      "4/4 [==============================] - 2s 553ms/step - loss: 0.0238 - accuracy: 0.9911 - val_loss: 1.4520 - val_accuracy: 0.7931\n",
      "Epoch 59/100\n",
      "4/4 [==============================] - 2s 570ms/step - loss: 0.0115 - accuracy: 1.0000 - val_loss: 1.5085 - val_accuracy: 0.7586\n",
      "Epoch 60/100\n",
      "4/4 [==============================] - 2s 567ms/step - loss: 0.0113 - accuracy: 1.0000 - val_loss: 1.6952 - val_accuracy: 0.6897\n",
      "Epoch 61/100\n",
      "4/4 [==============================] - 2s 553ms/step - loss: 0.0266 - accuracy: 1.0000 - val_loss: 1.8984 - val_accuracy: 0.6897\n",
      "Epoch 62/100\n",
      "4/4 [==============================] - 2s 574ms/step - loss: 0.0076 - accuracy: 1.0000 - val_loss: 1.8860 - val_accuracy: 0.7241\n",
      "Epoch 63/100\n",
      "4/4 [==============================] - 2s 558ms/step - loss: 0.0187 - accuracy: 0.9911 - val_loss: 1.8615 - val_accuracy: 0.7586\n",
      "Epoch 64/100\n",
      "4/4 [==============================] - 2s 573ms/step - loss: 0.0129 - accuracy: 0.9911 - val_loss: 1.8663 - val_accuracy: 0.7586\n",
      "Epoch 65/100\n",
      "4/4 [==============================] - 2s 570ms/step - loss: 0.0066 - accuracy: 1.0000 - val_loss: 1.8958 - val_accuracy: 0.7586\n",
      "Epoch 66/100\n",
      "4/4 [==============================] - 2s 577ms/step - loss: 0.0138 - accuracy: 0.9911 - val_loss: 1.9811 - val_accuracy: 0.6897\n",
      "Epoch 67/100\n",
      "4/4 [==============================] - 3s 713ms/step - loss: 0.0128 - accuracy: 1.0000 - val_loss: 2.0727 - val_accuracy: 0.6897\n",
      "Epoch 68/100\n",
      "4/4 [==============================] - 2s 559ms/step - loss: 0.0242 - accuracy: 0.9911 - val_loss: 1.8375 - val_accuracy: 0.7586\n",
      "Epoch 69/100\n",
      "4/4 [==============================] - 2s 559ms/step - loss: 0.0131 - accuracy: 1.0000 - val_loss: 1.8860 - val_accuracy: 0.7931\n",
      "Epoch 70/100\n",
      "4/4 [==============================] - 2s 554ms/step - loss: 0.0228 - accuracy: 1.0000 - val_loss: 2.2439 - val_accuracy: 0.6897\n",
      "Epoch 71/100\n",
      "4/4 [==============================] - 2s 596ms/step - loss: 0.0134 - accuracy: 1.0000 - val_loss: 2.1994 - val_accuracy: 0.6897\n",
      "Epoch 72/100\n",
      "4/4 [==============================] - 2s 581ms/step - loss: 0.0320 - accuracy: 0.9911 - val_loss: 2.0472 - val_accuracy: 0.7241\n",
      "Epoch 73/100\n",
      "4/4 [==============================] - 2s 605ms/step - loss: 0.0287 - accuracy: 1.0000 - val_loss: 2.4888 - val_accuracy: 0.6897\n",
      "Epoch 74/100\n",
      "4/4 [==============================] - 3s 605ms/step - loss: 0.0051 - accuracy: 1.0000 - val_loss: 2.8623 - val_accuracy: 0.6552\n",
      "Epoch 75/100\n",
      "4/4 [==============================] - 2s 578ms/step - loss: 0.0330 - accuracy: 1.0000 - val_loss: 2.4443 - val_accuracy: 0.7241\n",
      "Epoch 76/100\n",
      "4/4 [==============================] - 2s 579ms/step - loss: 0.0054 - accuracy: 1.0000 - val_loss: 2.0608 - val_accuracy: 0.7586\n",
      "Epoch 77/100\n",
      "4/4 [==============================] - 3s 682ms/step - loss: 0.0413 - accuracy: 0.9732 - val_loss: 2.7869 - val_accuracy: 0.6552\n",
      "Epoch 78/100\n",
      "4/4 [==============================] - 2s 613ms/step - loss: 0.1447 - accuracy: 0.9732 - val_loss: 2.8272 - val_accuracy: 0.7241\n",
      "Epoch 79/100\n",
      "4/4 [==============================] - 2s 570ms/step - loss: 0.8536 - accuracy: 0.8036 - val_loss: 1.6305 - val_accuracy: 0.5517\n",
      "Epoch 80/100\n",
      "4/4 [==============================] - 2s 608ms/step - loss: 0.5608 - accuracy: 0.7857 - val_loss: 0.8768 - val_accuracy: 0.6897\n",
      "Epoch 81/100\n",
      "4/4 [==============================] - 4s 790ms/step - loss: 0.2603 - accuracy: 0.8929 - val_loss: 0.7647 - val_accuracy: 0.6552\n",
      "Epoch 82/100\n",
      "4/4 [==============================] - 2s 552ms/step - loss: 0.2184 - accuracy: 0.9554 - val_loss: 0.9165 - val_accuracy: 0.6207\n",
      "Epoch 83/100\n",
      "4/4 [==============================] - 2s 554ms/step - loss: 0.1779 - accuracy: 0.9286 - val_loss: 1.0155 - val_accuracy: 0.6552\n",
      "Epoch 84/100\n",
      "4/4 [==============================] - 3s 859ms/step - loss: 0.0828 - accuracy: 0.9643 - val_loss: 1.1061 - val_accuracy: 0.6552\n",
      "Epoch 85/100\n",
      "4/4 [==============================] - 3s 618ms/step - loss: 0.1031 - accuracy: 0.9643 - val_loss: 1.3100 - val_accuracy: 0.6207\n",
      "Epoch 86/100\n",
      "4/4 [==============================] - 2s 581ms/step - loss: 0.0715 - accuracy: 0.9821 - val_loss: 1.2469 - val_accuracy: 0.6897\n",
      "Epoch 87/100\n",
      "4/4 [==============================] - 3s 654ms/step - loss: 0.0439 - accuracy: 0.9732 - val_loss: 1.0404 - val_accuracy: 0.7586\n",
      "Epoch 88/100\n",
      "4/4 [==============================] - 2s 568ms/step - loss: 0.0788 - accuracy: 0.9643 - val_loss: 1.2041 - val_accuracy: 0.6897\n",
      "Epoch 89/100\n",
      "4/4 [==============================] - 2s 590ms/step - loss: 0.0744 - accuracy: 0.9643 - val_loss: 1.3546 - val_accuracy: 0.6897\n",
      "Epoch 90/100\n",
      "4/4 [==============================] - 2s 603ms/step - loss: 0.0387 - accuracy: 0.9732 - val_loss: 1.2697 - val_accuracy: 0.6552\n",
      "Epoch 91/100\n",
      "4/4 [==============================] - 3s 655ms/step - loss: 0.0235 - accuracy: 0.9911 - val_loss: 1.2440 - val_accuracy: 0.6552\n",
      "Epoch 92/100\n",
      "4/4 [==============================] - 2s 586ms/step - loss: 0.0609 - accuracy: 0.9732 - val_loss: 1.3654 - val_accuracy: 0.7241\n",
      "Epoch 93/100\n",
      "4/4 [==============================] - 2s 576ms/step - loss: 0.0424 - accuracy: 0.9821 - val_loss: 1.5162 - val_accuracy: 0.6552\n",
      "Epoch 94/100\n",
      "4/4 [==============================] - 2s 578ms/step - loss: 0.0746 - accuracy: 0.9464 - val_loss: 1.3415 - val_accuracy: 0.6897\n",
      "Epoch 95/100\n",
      "4/4 [==============================] - 2s 569ms/step - loss: 0.0210 - accuracy: 0.9911 - val_loss: 1.1884 - val_accuracy: 0.7586\n",
      "Epoch 96/100\n",
      "4/4 [==============================] - 2s 566ms/step - loss: 0.0304 - accuracy: 0.9821 - val_loss: 1.2882 - val_accuracy: 0.6552\n",
      "Epoch 97/100\n",
      "4/4 [==============================] - 3s 695ms/step - loss: 0.0199 - accuracy: 1.0000 - val_loss: 1.5393 - val_accuracy: 0.6207\n",
      "Epoch 98/100\n",
      "4/4 [==============================] - 2s 575ms/step - loss: 0.0491 - accuracy: 0.9732 - val_loss: 1.5147 - val_accuracy: 0.6207\n",
      "Epoch 99/100\n",
      "4/4 [==============================] - 2s 575ms/step - loss: 0.0093 - accuracy: 1.0000 - val_loss: 1.4573 - val_accuracy: 0.6207\n",
      "Epoch 100/100\n",
      "4/4 [==============================] - 2s 572ms/step - loss: 0.0218 - accuracy: 0.9911 - val_loss: 1.4768 - val_accuracy: 0.6897\n"
     ]
    }
   ],
   "source": [
    "log_dir = \"logs/fit/\" + datetime.datetime.now().strftime(\"%Y%m%d-%H%M%S\")\n",
    "tensorboard_callback = tf.keras.callbacks.TensorBoard(log_dir=log_dir, histogram_freq=1)\n",
    "history = model.fit(x_train, y_train, batch_size= 32, verbose = 'auto', epochs = 100, validation_data = (x_test, y_test), shuffle = False, callbacks=[tensorboard_callback])\n"
   ]
  },
  {
   "cell_type": "code",
   "execution_count": 16,
   "metadata": {},
   "outputs": [],
   "source": [
    "model.save('trialmodel1_100epochs.h5')"
   ]
  },
  {
   "cell_type": "code",
   "execution_count": 17,
   "metadata": {},
   "outputs": [
    {
     "data": {
      "image/png": "[encoded data removed]",
      "text/plain": [
       "<Figure size 432x288 with 1 Axes>"
      ]
     },
     "metadata": {
      "needs_background": "light"
     },
     "output_type": "display_data"
    }
   ],
   "source": [
    "#plot the training and validation accuracy and loss at each epoch\n",
    "loss = history.history['loss']\n",
    "val_loss = history.history['val_loss']\n",
    "epochs = range(1, len(loss) + 1)\n",
    "plt.plot(epochs, loss, 'y', label='Training loss')\n",
    "plt.plot(epochs, val_loss, 'r', label='Validation loss')\n",
    "plt.title('Training and validation loss')\n",
    "plt.xlabel('Epochs')\n",
    "plt.ylabel('Loss')\n",
    "plt.legend()\n",
    "plt.show()"
   ]
  },
  {
   "cell_type": "code",
   "execution_count": 19,
   "metadata": {},
   "outputs": [
    {
     "data": {
      "image/png": "[encoded data removed]",
      "text/plain": [
       "<Figure size 432x288 with 1 Axes>"
      ]
     },
     "metadata": {
      "needs_background": "light"
     },
     "output_type": "display_data"
    }
   ],
   "source": [
    "acc = history.history['accuracy']\n",
    "val_acc = history.history['val_accuracy']\n",
    "plt.plot(epochs, acc, 'y', label='Training acc')\n",
    "plt.plot(epochs, val_acc, 'r', label='Validation acc')\n",
    "plt.title('Training and validation accuracy')\n",
    "plt.xlabel('Epochs')\n",
    "plt.ylabel('Accuracy')\n",
    "plt.legend()\n",
    "plt.show()"
   ]
  },
  {
   "cell_type": "code",
   "execution_count": 20,
   "metadata": {},
   "outputs": [
    {
     "name": "stdout",
     "output_type": "stream",
     "text": [
      "1/1 [==============================] - 1s 602ms/step - loss: 1.4768 - accuracy: 0.6897\n",
      "Accuracy =  68.96551847457886 %\n"
     ]
    }
   ],
   "source": [
    "from keras.models import load_model\n",
    "model1 = load_model('trialmodel1_100epochs.h5')\n",
    "#For 300 epochs\n",
    "_, acc = model.evaluate(x_test, y_test)\n",
    "print(\"Accuracy = \", (acc * 100.0), \"%\")"
   ]
  },
  {
   "cell_type": "code",
   "execution_count": 21,
   "metadata": {},
   "outputs": [
    {
     "name": "stdout",
     "output_type": "stream",
     "text": [
      "[[11  2]\n",
      " [ 7  9]]\n"
     ]
    }
   ],
   "source": [
    "from sklearn.metrics import confusion_matrix\n",
    "mythreshold=0.908\n",
    "y_pred = (model.predict(x_test)>= mythreshold).astype(int)\n",
    "cm=confusion_matrix(y_test, y_pred)  \n",
    "print(cm)"
   ]
  }
 ],
 "metadata": {
  "interpreter": {
   "hash": "ee1d5627e83dfb63fce05d5f71d4dbba4c26a74e40b0a82fff7dd0c7bb187f71"
  },
  "kernelspec": {
   "display_name": "Python 3.9.1 64-bit",
   "language": "python",
   "name": "python3"
  },
  "language_info": {
   "codemirror_mode": {
    "name": "ipython",
    "version": 3
   },
   "file_extension": ".py",
   "mimetype": "text/x-python",
   "name": "python",
   "nbconvert_exporter": "python",
   "pygments_lexer": "ipython3",
   "version": "3.7.4"
  },
  "orig_nbformat": 4
 },
 "nbformat": 4,
 "nbformat_minor": 2
}
